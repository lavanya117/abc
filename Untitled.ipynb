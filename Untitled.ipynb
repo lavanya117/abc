{
 "cells": [
  {
   "cell_type": "code",
   "execution_count": 378,
   "id": "da258c14-7029-4a9a-bbfc-a9a24012b66c",
   "metadata": {},
   "outputs": [],
   "source": [
    "import numpy as np\n",
    "import pandas as pd\n",
    "import seaborn as sns"
   ]
  },
  {
   "cell_type": "code",
   "execution_count": 379,
   "id": "bf6c2310-a86d-4749-b510-3f5307df74c6",
   "metadata": {},
   "outputs": [],
   "source": [
    "df = pd.read_csv('spg.csv')"
   ]
  },
  {
   "cell_type": "code",
   "execution_count": 380,
   "id": "905e458e-4a05-4b5f-bd03-9d0a90e772d5",
   "metadata": {},
   "outputs": [
    {
     "data": {
      "text/html": [
       "<div>\n",
       "<style scoped>\n",
       "    .dataframe tbody tr th:only-of-type {\n",
       "        vertical-align: middle;\n",
       "    }\n",
       "\n",
       "    .dataframe tbody tr th {\n",
       "        vertical-align: top;\n",
       "    }\n",
       "\n",
       "    .dataframe thead th {\n",
       "        text-align: right;\n",
       "    }\n",
       "</style>\n",
       "<table border=\"1\" class=\"dataframe\">\n",
       "  <thead>\n",
       "    <tr style=\"text-align: right;\">\n",
       "      <th></th>\n",
       "      <th>temperature_2_m_above_gnd</th>\n",
       "      <th>relative_humidity_2_m_above_gnd</th>\n",
       "      <th>mean_sea_level_pressure_MSL</th>\n",
       "      <th>total_precipitation_sfc</th>\n",
       "      <th>snowfall_amount_sfc</th>\n",
       "      <th>total_cloud_cover_sfc</th>\n",
       "      <th>high_cloud_cover_high_cld_lay</th>\n",
       "      <th>medium_cloud_cover_mid_cld_lay</th>\n",
       "      <th>low_cloud_cover_low_cld_lay</th>\n",
       "      <th>shortwave_radiation_backwards_sfc</th>\n",
       "      <th>...</th>\n",
       "      <th>wind_direction_10_m_above_gnd</th>\n",
       "      <th>wind_speed_80_m_above_gnd</th>\n",
       "      <th>wind_direction_80_m_above_gnd</th>\n",
       "      <th>wind_speed_900_mb</th>\n",
       "      <th>wind_direction_900_mb</th>\n",
       "      <th>wind_gust_10_m_above_gnd</th>\n",
       "      <th>angle_of_incidence</th>\n",
       "      <th>zenith</th>\n",
       "      <th>azimuth</th>\n",
       "      <th>generated_power_kw</th>\n",
       "    </tr>\n",
       "  </thead>\n",
       "  <tbody>\n",
       "    <tr>\n",
       "      <th>0</th>\n",
       "      <td>2.17</td>\n",
       "      <td>31</td>\n",
       "      <td>1035.0</td>\n",
       "      <td>0.0</td>\n",
       "      <td>0.0</td>\n",
       "      <td>0.0</td>\n",
       "      <td>0</td>\n",
       "      <td>0</td>\n",
       "      <td>0</td>\n",
       "      <td>0.00</td>\n",
       "      <td>...</td>\n",
       "      <td>312.71</td>\n",
       "      <td>9.36</td>\n",
       "      <td>22.62</td>\n",
       "      <td>6.62</td>\n",
       "      <td>337.62</td>\n",
       "      <td>24.48</td>\n",
       "      <td>58.753108</td>\n",
       "      <td>83.237322</td>\n",
       "      <td>128.33543</td>\n",
       "      <td>454.10095</td>\n",
       "    </tr>\n",
       "    <tr>\n",
       "      <th>1</th>\n",
       "      <td>2.31</td>\n",
       "      <td>27</td>\n",
       "      <td>1035.1</td>\n",
       "      <td>0.0</td>\n",
       "      <td>0.0</td>\n",
       "      <td>0.0</td>\n",
       "      <td>0</td>\n",
       "      <td>0</td>\n",
       "      <td>0</td>\n",
       "      <td>1.78</td>\n",
       "      <td>...</td>\n",
       "      <td>294.78</td>\n",
       "      <td>5.99</td>\n",
       "      <td>32.74</td>\n",
       "      <td>4.61</td>\n",
       "      <td>321.34</td>\n",
       "      <td>21.96</td>\n",
       "      <td>45.408585</td>\n",
       "      <td>75.143041</td>\n",
       "      <td>139.65530</td>\n",
       "      <td>1411.99940</td>\n",
       "    </tr>\n",
       "    <tr>\n",
       "      <th>2</th>\n",
       "      <td>3.65</td>\n",
       "      <td>33</td>\n",
       "      <td>1035.4</td>\n",
       "      <td>0.0</td>\n",
       "      <td>0.0</td>\n",
       "      <td>0.0</td>\n",
       "      <td>0</td>\n",
       "      <td>0</td>\n",
       "      <td>0</td>\n",
       "      <td>108.58</td>\n",
       "      <td>...</td>\n",
       "      <td>270.00</td>\n",
       "      <td>3.89</td>\n",
       "      <td>56.31</td>\n",
       "      <td>3.76</td>\n",
       "      <td>286.70</td>\n",
       "      <td>14.04</td>\n",
       "      <td>32.848282</td>\n",
       "      <td>68.820648</td>\n",
       "      <td>152.53769</td>\n",
       "      <td>2214.84930</td>\n",
       "    </tr>\n",
       "    <tr>\n",
       "      <th>3</th>\n",
       "      <td>5.82</td>\n",
       "      <td>30</td>\n",
       "      <td>1035.4</td>\n",
       "      <td>0.0</td>\n",
       "      <td>0.0</td>\n",
       "      <td>0.0</td>\n",
       "      <td>0</td>\n",
       "      <td>0</td>\n",
       "      <td>0</td>\n",
       "      <td>258.10</td>\n",
       "      <td>...</td>\n",
       "      <td>323.13</td>\n",
       "      <td>3.55</td>\n",
       "      <td>23.96</td>\n",
       "      <td>3.08</td>\n",
       "      <td>339.44</td>\n",
       "      <td>19.80</td>\n",
       "      <td>22.699288</td>\n",
       "      <td>64.883536</td>\n",
       "      <td>166.90159</td>\n",
       "      <td>2527.60920</td>\n",
       "    </tr>\n",
       "    <tr>\n",
       "      <th>4</th>\n",
       "      <td>7.73</td>\n",
       "      <td>27</td>\n",
       "      <td>1034.4</td>\n",
       "      <td>0.0</td>\n",
       "      <td>0.0</td>\n",
       "      <td>0.0</td>\n",
       "      <td>0</td>\n",
       "      <td>0</td>\n",
       "      <td>0</td>\n",
       "      <td>375.58</td>\n",
       "      <td>...</td>\n",
       "      <td>10.01</td>\n",
       "      <td>6.76</td>\n",
       "      <td>25.20</td>\n",
       "      <td>6.62</td>\n",
       "      <td>22.38</td>\n",
       "      <td>16.56</td>\n",
       "      <td>19.199908</td>\n",
       "      <td>63.795208</td>\n",
       "      <td>182.13526</td>\n",
       "      <td>2640.20340</td>\n",
       "    </tr>\n",
       "  </tbody>\n",
       "</table>\n",
       "<p>5 rows × 21 columns</p>\n",
       "</div>"
      ],
      "text/plain": [
       "   temperature_2_m_above_gnd  relative_humidity_2_m_above_gnd  \\\n",
       "0                       2.17                               31   \n",
       "1                       2.31                               27   \n",
       "2                       3.65                               33   \n",
       "3                       5.82                               30   \n",
       "4                       7.73                               27   \n",
       "\n",
       "   mean_sea_level_pressure_MSL  total_precipitation_sfc  snowfall_amount_sfc  \\\n",
       "0                       1035.0                      0.0                  0.0   \n",
       "1                       1035.1                      0.0                  0.0   \n",
       "2                       1035.4                      0.0                  0.0   \n",
       "3                       1035.4                      0.0                  0.0   \n",
       "4                       1034.4                      0.0                  0.0   \n",
       "\n",
       "   total_cloud_cover_sfc  high_cloud_cover_high_cld_lay  \\\n",
       "0                    0.0                              0   \n",
       "1                    0.0                              0   \n",
       "2                    0.0                              0   \n",
       "3                    0.0                              0   \n",
       "4                    0.0                              0   \n",
       "\n",
       "   medium_cloud_cover_mid_cld_lay  low_cloud_cover_low_cld_lay  \\\n",
       "0                               0                            0   \n",
       "1                               0                            0   \n",
       "2                               0                            0   \n",
       "3                               0                            0   \n",
       "4                               0                            0   \n",
       "\n",
       "   shortwave_radiation_backwards_sfc  ...  wind_direction_10_m_above_gnd  \\\n",
       "0                               0.00  ...                         312.71   \n",
       "1                               1.78  ...                         294.78   \n",
       "2                             108.58  ...                         270.00   \n",
       "3                             258.10  ...                         323.13   \n",
       "4                             375.58  ...                          10.01   \n",
       "\n",
       "   wind_speed_80_m_above_gnd  wind_direction_80_m_above_gnd  \\\n",
       "0                       9.36                          22.62   \n",
       "1                       5.99                          32.74   \n",
       "2                       3.89                          56.31   \n",
       "3                       3.55                          23.96   \n",
       "4                       6.76                          25.20   \n",
       "\n",
       "   wind_speed_900_mb  wind_direction_900_mb  wind_gust_10_m_above_gnd  \\\n",
       "0               6.62                 337.62                     24.48   \n",
       "1               4.61                 321.34                     21.96   \n",
       "2               3.76                 286.70                     14.04   \n",
       "3               3.08                 339.44                     19.80   \n",
       "4               6.62                  22.38                     16.56   \n",
       "\n",
       "   angle_of_incidence     zenith    azimuth  generated_power_kw  \n",
       "0           58.753108  83.237322  128.33543           454.10095  \n",
       "1           45.408585  75.143041  139.65530          1411.99940  \n",
       "2           32.848282  68.820648  152.53769          2214.84930  \n",
       "3           22.699288  64.883536  166.90159          2527.60920  \n",
       "4           19.199908  63.795208  182.13526          2640.20340  \n",
       "\n",
       "[5 rows x 21 columns]"
      ]
     },
     "execution_count": 380,
     "metadata": {},
     "output_type": "execute_result"
    }
   ],
   "source": [
    "df.head()"
   ]
  },
  {
   "cell_type": "code",
   "execution_count": 381,
   "id": "bbb612d3-a610-44d4-a688-d6b19bcba7ad",
   "metadata": {},
   "outputs": [
    {
     "data": {
      "text/plain": [
       "(4213, 21)"
      ]
     },
     "execution_count": 381,
     "metadata": {},
     "output_type": "execute_result"
    }
   ],
   "source": [
    "df.shape"
   ]
  },
  {
   "cell_type": "code",
   "execution_count": 382,
   "id": "f5d1afbb-6d56-4d6e-82be-db75bf7a3b47",
   "metadata": {},
   "outputs": [
    {
     "data": {
      "text/plain": [
       "temperature_2_m_above_gnd            0\n",
       "relative_humidity_2_m_above_gnd      0\n",
       "mean_sea_level_pressure_MSL          0\n",
       "total_precipitation_sfc              0\n",
       "snowfall_amount_sfc                  0\n",
       "total_cloud_cover_sfc                0\n",
       "high_cloud_cover_high_cld_lay        0\n",
       "medium_cloud_cover_mid_cld_lay       0\n",
       "low_cloud_cover_low_cld_lay          0\n",
       "shortwave_radiation_backwards_sfc    0\n",
       "wind_speed_10_m_above_gnd            0\n",
       "wind_direction_10_m_above_gnd        0\n",
       "wind_speed_80_m_above_gnd            0\n",
       "wind_direction_80_m_above_gnd        0\n",
       "wind_speed_900_mb                    0\n",
       "wind_direction_900_mb                0\n",
       "wind_gust_10_m_above_gnd             0\n",
       "angle_of_incidence                   0\n",
       "zenith                               0\n",
       "azimuth                              0\n",
       "generated_power_kw                   0\n",
       "dtype: int64"
      ]
     },
     "execution_count": 382,
     "metadata": {},
     "output_type": "execute_result"
    }
   ],
   "source": [
    "df.isnull().sum()"
   ]
  },
  {
   "cell_type": "code",
   "execution_count": 383,
   "id": "50fb7e2e-1a20-48cb-9e70-00a5409df966",
   "metadata": {},
   "outputs": [
    {
     "data": {
      "text/html": [
       "<div>\n",
       "<style scoped>\n",
       "    .dataframe tbody tr th:only-of-type {\n",
       "        vertical-align: middle;\n",
       "    }\n",
       "\n",
       "    .dataframe tbody tr th {\n",
       "        vertical-align: top;\n",
       "    }\n",
       "\n",
       "    .dataframe thead th {\n",
       "        text-align: right;\n",
       "    }\n",
       "</style>\n",
       "<table border=\"1\" class=\"dataframe\">\n",
       "  <thead>\n",
       "    <tr style=\"text-align: right;\">\n",
       "      <th></th>\n",
       "      <th>temperature_2_m_above_gnd</th>\n",
       "      <th>relative_humidity_2_m_above_gnd</th>\n",
       "      <th>mean_sea_level_pressure_MSL</th>\n",
       "      <th>total_precipitation_sfc</th>\n",
       "      <th>snowfall_amount_sfc</th>\n",
       "      <th>total_cloud_cover_sfc</th>\n",
       "      <th>high_cloud_cover_high_cld_lay</th>\n",
       "      <th>medium_cloud_cover_mid_cld_lay</th>\n",
       "      <th>low_cloud_cover_low_cld_lay</th>\n",
       "      <th>shortwave_radiation_backwards_sfc</th>\n",
       "      <th>...</th>\n",
       "      <th>wind_direction_10_m_above_gnd</th>\n",
       "      <th>wind_speed_80_m_above_gnd</th>\n",
       "      <th>wind_direction_80_m_above_gnd</th>\n",
       "      <th>wind_speed_900_mb</th>\n",
       "      <th>wind_direction_900_mb</th>\n",
       "      <th>wind_gust_10_m_above_gnd</th>\n",
       "      <th>angle_of_incidence</th>\n",
       "      <th>zenith</th>\n",
       "      <th>azimuth</th>\n",
       "      <th>generated_power_kw</th>\n",
       "    </tr>\n",
       "  </thead>\n",
       "  <tbody>\n",
       "    <tr>\n",
       "      <th>635</th>\n",
       "      <td>15.18</td>\n",
       "      <td>30</td>\n",
       "      <td>1022.6</td>\n",
       "      <td>0.0</td>\n",
       "      <td>0.0</td>\n",
       "      <td>0.0</td>\n",
       "      <td>0</td>\n",
       "      <td>0</td>\n",
       "      <td>0</td>\n",
       "      <td>329.3</td>\n",
       "      <td>...</td>\n",
       "      <td>26.57</td>\n",
       "      <td>19.97</td>\n",
       "      <td>27.95</td>\n",
       "      <td>16.9</td>\n",
       "      <td>26.57</td>\n",
       "      <td>19.44</td>\n",
       "      <td>85.185592</td>\n",
       "      <td>89.514217</td>\n",
       "      <td>263.67199</td>\n",
       "      <td>0.996</td>\n",
       "    </tr>\n",
       "  </tbody>\n",
       "</table>\n",
       "<p>1 rows × 21 columns</p>\n",
       "</div>"
      ],
      "text/plain": [
       "     temperature_2_m_above_gnd  relative_humidity_2_m_above_gnd  \\\n",
       "635                      15.18                               30   \n",
       "\n",
       "     mean_sea_level_pressure_MSL  total_precipitation_sfc  \\\n",
       "635                       1022.6                      0.0   \n",
       "\n",
       "     snowfall_amount_sfc  total_cloud_cover_sfc  \\\n",
       "635                  0.0                    0.0   \n",
       "\n",
       "     high_cloud_cover_high_cld_lay  medium_cloud_cover_mid_cld_lay  \\\n",
       "635                              0                               0   \n",
       "\n",
       "     low_cloud_cover_low_cld_lay  shortwave_radiation_backwards_sfc  ...  \\\n",
       "635                            0                              329.3  ...   \n",
       "\n",
       "     wind_direction_10_m_above_gnd  wind_speed_80_m_above_gnd  \\\n",
       "635                          26.57                      19.97   \n",
       "\n",
       "     wind_direction_80_m_above_gnd  wind_speed_900_mb  wind_direction_900_mb  \\\n",
       "635                          27.95               16.9                  26.57   \n",
       "\n",
       "     wind_gust_10_m_above_gnd  angle_of_incidence     zenith    azimuth  \\\n",
       "635                     19.44           85.185592  89.514217  263.67199   \n",
       "\n",
       "     generated_power_kw  \n",
       "635               0.996  \n",
       "\n",
       "[1 rows x 21 columns]"
      ]
     },
     "execution_count": 383,
     "metadata": {},
     "output_type": "execute_result"
    }
   ],
   "source": [
    "df.sample()"
   ]
  },
  {
   "cell_type": "code",
   "execution_count": 384,
   "id": "4379acb4-4b18-4474-b2ff-f7efd16037ea",
   "metadata": {},
   "outputs": [
    {
     "data": {
      "text/html": [
       "<div>\n",
       "<style scoped>\n",
       "    .dataframe tbody tr th:only-of-type {\n",
       "        vertical-align: middle;\n",
       "    }\n",
       "\n",
       "    .dataframe tbody tr th {\n",
       "        vertical-align: top;\n",
       "    }\n",
       "\n",
       "    .dataframe thead th {\n",
       "        text-align: right;\n",
       "    }\n",
       "</style>\n",
       "<table border=\"1\" class=\"dataframe\">\n",
       "  <thead>\n",
       "    <tr style=\"text-align: right;\">\n",
       "      <th></th>\n",
       "      <th>temperature_2_m_above_gnd</th>\n",
       "      <th>relative_humidity_2_m_above_gnd</th>\n",
       "      <th>mean_sea_level_pressure_MSL</th>\n",
       "      <th>total_precipitation_sfc</th>\n",
       "      <th>snowfall_amount_sfc</th>\n",
       "      <th>total_cloud_cover_sfc</th>\n",
       "      <th>high_cloud_cover_high_cld_lay</th>\n",
       "      <th>medium_cloud_cover_mid_cld_lay</th>\n",
       "      <th>low_cloud_cover_low_cld_lay</th>\n",
       "      <th>shortwave_radiation_backwards_sfc</th>\n",
       "      <th>...</th>\n",
       "      <th>wind_direction_10_m_above_gnd</th>\n",
       "      <th>wind_speed_80_m_above_gnd</th>\n",
       "      <th>wind_direction_80_m_above_gnd</th>\n",
       "      <th>wind_speed_900_mb</th>\n",
       "      <th>wind_direction_900_mb</th>\n",
       "      <th>wind_gust_10_m_above_gnd</th>\n",
       "      <th>angle_of_incidence</th>\n",
       "      <th>zenith</th>\n",
       "      <th>azimuth</th>\n",
       "      <th>generated_power_kw</th>\n",
       "    </tr>\n",
       "  </thead>\n",
       "  <tbody>\n",
       "    <tr>\n",
       "      <th>4208</th>\n",
       "      <td>8.69</td>\n",
       "      <td>66</td>\n",
       "      <td>1025.1</td>\n",
       "      <td>0.0</td>\n",
       "      <td>0.0</td>\n",
       "      <td>100.0</td>\n",
       "      <td>100</td>\n",
       "      <td>100</td>\n",
       "      <td>100</td>\n",
       "      <td>257.21</td>\n",
       "      <td>...</td>\n",
       "      <td>285.42</td>\n",
       "      <td>25.50</td>\n",
       "      <td>283.06</td>\n",
       "      <td>24.01</td>\n",
       "      <td>282.99</td>\n",
       "      <td>25.20</td>\n",
       "      <td>22.700907</td>\n",
       "      <td>64.952098</td>\n",
       "      <td>167.06794</td>\n",
       "      <td>173.410560</td>\n",
       "    </tr>\n",
       "    <tr>\n",
       "      <th>4209</th>\n",
       "      <td>7.57</td>\n",
       "      <td>90</td>\n",
       "      <td>1026.1</td>\n",
       "      <td>0.0</td>\n",
       "      <td>0.0</td>\n",
       "      <td>100.0</td>\n",
       "      <td>79</td>\n",
       "      <td>100</td>\n",
       "      <td>100</td>\n",
       "      <td>210.04</td>\n",
       "      <td>...</td>\n",
       "      <td>6.91</td>\n",
       "      <td>13.00</td>\n",
       "      <td>4.76</td>\n",
       "      <td>11.61</td>\n",
       "      <td>7.13</td>\n",
       "      <td>10.44</td>\n",
       "      <td>19.307487</td>\n",
       "      <td>63.895118</td>\n",
       "      <td>182.28247</td>\n",
       "      <td>403.792220</td>\n",
       "    </tr>\n",
       "    <tr>\n",
       "      <th>4210</th>\n",
       "      <td>7.27</td>\n",
       "      <td>90</td>\n",
       "      <td>1026.3</td>\n",
       "      <td>0.1</td>\n",
       "      <td>0.0</td>\n",
       "      <td>100.0</td>\n",
       "      <td>73</td>\n",
       "      <td>100</td>\n",
       "      <td>100</td>\n",
       "      <td>113.92</td>\n",
       "      <td>...</td>\n",
       "      <td>2.29</td>\n",
       "      <td>8.71</td>\n",
       "      <td>352.87</td>\n",
       "      <td>7.95</td>\n",
       "      <td>354.81</td>\n",
       "      <td>22.32</td>\n",
       "      <td>25.249506</td>\n",
       "      <td>65.827032</td>\n",
       "      <td>197.33868</td>\n",
       "      <td>158.367780</td>\n",
       "    </tr>\n",
       "    <tr>\n",
       "      <th>4211</th>\n",
       "      <td>8.25</td>\n",
       "      <td>81</td>\n",
       "      <td>1025.5</td>\n",
       "      <td>0.0</td>\n",
       "      <td>0.0</td>\n",
       "      <td>100.0</td>\n",
       "      <td>74</td>\n",
       "      <td>66</td>\n",
       "      <td>100</td>\n",
       "      <td>186.90</td>\n",
       "      <td>...</td>\n",
       "      <td>11.31</td>\n",
       "      <td>6.29</td>\n",
       "      <td>13.24</td>\n",
       "      <td>5.94</td>\n",
       "      <td>14.04</td>\n",
       "      <td>15.48</td>\n",
       "      <td>36.361161</td>\n",
       "      <td>70.496313</td>\n",
       "      <td>211.30027</td>\n",
       "      <td>126.953060</td>\n",
       "    </tr>\n",
       "    <tr>\n",
       "      <th>4212</th>\n",
       "      <td>8.00</td>\n",
       "      <td>80</td>\n",
       "      <td>1025.3</td>\n",
       "      <td>0.0</td>\n",
       "      <td>0.0</td>\n",
       "      <td>100.0</td>\n",
       "      <td>100</td>\n",
       "      <td>100</td>\n",
       "      <td>100</td>\n",
       "      <td>172.66</td>\n",
       "      <td>...</td>\n",
       "      <td>12.72</td>\n",
       "      <td>12.07</td>\n",
       "      <td>17.35</td>\n",
       "      <td>11.38</td>\n",
       "      <td>18.43</td>\n",
       "      <td>16.20</td>\n",
       "      <td>48.452849</td>\n",
       "      <td>76.919574</td>\n",
       "      <td>223.04931</td>\n",
       "      <td>20.055031</td>\n",
       "    </tr>\n",
       "  </tbody>\n",
       "</table>\n",
       "<p>5 rows × 21 columns</p>\n",
       "</div>"
      ],
      "text/plain": [
       "      temperature_2_m_above_gnd  relative_humidity_2_m_above_gnd  \\\n",
       "4208                       8.69                               66   \n",
       "4209                       7.57                               90   \n",
       "4210                       7.27                               90   \n",
       "4211                       8.25                               81   \n",
       "4212                       8.00                               80   \n",
       "\n",
       "      mean_sea_level_pressure_MSL  total_precipitation_sfc  \\\n",
       "4208                       1025.1                      0.0   \n",
       "4209                       1026.1                      0.0   \n",
       "4210                       1026.3                      0.1   \n",
       "4211                       1025.5                      0.0   \n",
       "4212                       1025.3                      0.0   \n",
       "\n",
       "      snowfall_amount_sfc  total_cloud_cover_sfc  \\\n",
       "4208                  0.0                  100.0   \n",
       "4209                  0.0                  100.0   \n",
       "4210                  0.0                  100.0   \n",
       "4211                  0.0                  100.0   \n",
       "4212                  0.0                  100.0   \n",
       "\n",
       "      high_cloud_cover_high_cld_lay  medium_cloud_cover_mid_cld_lay  \\\n",
       "4208                            100                             100   \n",
       "4209                             79                             100   \n",
       "4210                             73                             100   \n",
       "4211                             74                              66   \n",
       "4212                            100                             100   \n",
       "\n",
       "      low_cloud_cover_low_cld_lay  shortwave_radiation_backwards_sfc  ...  \\\n",
       "4208                          100                             257.21  ...   \n",
       "4209                          100                             210.04  ...   \n",
       "4210                          100                             113.92  ...   \n",
       "4211                          100                             186.90  ...   \n",
       "4212                          100                             172.66  ...   \n",
       "\n",
       "      wind_direction_10_m_above_gnd  wind_speed_80_m_above_gnd  \\\n",
       "4208                         285.42                      25.50   \n",
       "4209                           6.91                      13.00   \n",
       "4210                           2.29                       8.71   \n",
       "4211                          11.31                       6.29   \n",
       "4212                          12.72                      12.07   \n",
       "\n",
       "      wind_direction_80_m_above_gnd  wind_speed_900_mb  wind_direction_900_mb  \\\n",
       "4208                         283.06              24.01                 282.99   \n",
       "4209                           4.76              11.61                   7.13   \n",
       "4210                         352.87               7.95                 354.81   \n",
       "4211                          13.24               5.94                  14.04   \n",
       "4212                          17.35              11.38                  18.43   \n",
       "\n",
       "      wind_gust_10_m_above_gnd  angle_of_incidence     zenith    azimuth  \\\n",
       "4208                     25.20           22.700907  64.952098  167.06794   \n",
       "4209                     10.44           19.307487  63.895118  182.28247   \n",
       "4210                     22.32           25.249506  65.827032  197.33868   \n",
       "4211                     15.48           36.361161  70.496313  211.30027   \n",
       "4212                     16.20           48.452849  76.919574  223.04931   \n",
       "\n",
       "      generated_power_kw  \n",
       "4208          173.410560  \n",
       "4209          403.792220  \n",
       "4210          158.367780  \n",
       "4211          126.953060  \n",
       "4212           20.055031  \n",
       "\n",
       "[5 rows x 21 columns]"
      ]
     },
     "execution_count": 384,
     "metadata": {},
     "output_type": "execute_result"
    }
   ],
   "source": [
    "df.tail()"
   ]
  },
  {
   "cell_type": "code",
   "execution_count": 385,
   "id": "eea71440-6fc1-4b2a-bd01-9e962651bacc",
   "metadata": {},
   "outputs": [
    {
     "name": "stdout",
     "output_type": "stream",
     "text": [
      "<class 'pandas.core.frame.DataFrame'>\n",
      "RangeIndex: 4213 entries, 0 to 4212\n",
      "Data columns (total 21 columns):\n",
      " #   Column                             Non-Null Count  Dtype  \n",
      "---  ------                             --------------  -----  \n",
      " 0   temperature_2_m_above_gnd          4213 non-null   float64\n",
      " 1   relative_humidity_2_m_above_gnd    4213 non-null   int64  \n",
      " 2   mean_sea_level_pressure_MSL        4213 non-null   float64\n",
      " 3   total_precipitation_sfc            4213 non-null   float64\n",
      " 4   snowfall_amount_sfc                4213 non-null   float64\n",
      " 5   total_cloud_cover_sfc              4213 non-null   float64\n",
      " 6   high_cloud_cover_high_cld_lay      4213 non-null   int64  \n",
      " 7   medium_cloud_cover_mid_cld_lay     4213 non-null   int64  \n",
      " 8   low_cloud_cover_low_cld_lay        4213 non-null   int64  \n",
      " 9   shortwave_radiation_backwards_sfc  4213 non-null   float64\n",
      " 10  wind_speed_10_m_above_gnd          4213 non-null   float64\n",
      " 11  wind_direction_10_m_above_gnd      4213 non-null   float64\n",
      " 12  wind_speed_80_m_above_gnd          4213 non-null   float64\n",
      " 13  wind_direction_80_m_above_gnd      4213 non-null   float64\n",
      " 14  wind_speed_900_mb                  4213 non-null   float64\n",
      " 15  wind_direction_900_mb              4213 non-null   float64\n",
      " 16  wind_gust_10_m_above_gnd           4213 non-null   float64\n",
      " 17  angle_of_incidence                 4213 non-null   float64\n",
      " 18  zenith                             4213 non-null   float64\n",
      " 19  azimuth                            4213 non-null   float64\n",
      " 20  generated_power_kw                 4213 non-null   float64\n",
      "dtypes: float64(17), int64(4)\n",
      "memory usage: 691.3 KB\n"
     ]
    }
   ],
   "source": [
    "df.info()"
   ]
  },
  {
   "cell_type": "code",
   "execution_count": 386,
   "id": "bdc7a0e2-0464-4de0-91f9-17cd37db363e",
   "metadata": {},
   "outputs": [
    {
     "data": {
      "text/html": [
       "<div>\n",
       "<style scoped>\n",
       "    .dataframe tbody tr th:only-of-type {\n",
       "        vertical-align: middle;\n",
       "    }\n",
       "\n",
       "    .dataframe tbody tr th {\n",
       "        vertical-align: top;\n",
       "    }\n",
       "\n",
       "    .dataframe thead th {\n",
       "        text-align: right;\n",
       "    }\n",
       "</style>\n",
       "<table border=\"1\" class=\"dataframe\">\n",
       "  <thead>\n",
       "    <tr style=\"text-align: right;\">\n",
       "      <th></th>\n",
       "      <th>temperature_2_m_above_gnd</th>\n",
       "      <th>relative_humidity_2_m_above_gnd</th>\n",
       "      <th>mean_sea_level_pressure_MSL</th>\n",
       "      <th>total_precipitation_sfc</th>\n",
       "      <th>snowfall_amount_sfc</th>\n",
       "      <th>total_cloud_cover_sfc</th>\n",
       "      <th>high_cloud_cover_high_cld_lay</th>\n",
       "      <th>medium_cloud_cover_mid_cld_lay</th>\n",
       "      <th>low_cloud_cover_low_cld_lay</th>\n",
       "      <th>shortwave_radiation_backwards_sfc</th>\n",
       "      <th>...</th>\n",
       "      <th>wind_direction_10_m_above_gnd</th>\n",
       "      <th>wind_speed_80_m_above_gnd</th>\n",
       "      <th>wind_direction_80_m_above_gnd</th>\n",
       "      <th>wind_speed_900_mb</th>\n",
       "      <th>wind_direction_900_mb</th>\n",
       "      <th>wind_gust_10_m_above_gnd</th>\n",
       "      <th>angle_of_incidence</th>\n",
       "      <th>zenith</th>\n",
       "      <th>azimuth</th>\n",
       "      <th>generated_power_kw</th>\n",
       "    </tr>\n",
       "  </thead>\n",
       "  <tbody>\n",
       "    <tr>\n",
       "      <th>count</th>\n",
       "      <td>4213.000000</td>\n",
       "      <td>4213.000000</td>\n",
       "      <td>4213.000000</td>\n",
       "      <td>4213.000000</td>\n",
       "      <td>4213.000000</td>\n",
       "      <td>4213.000000</td>\n",
       "      <td>4213.000000</td>\n",
       "      <td>4213.000000</td>\n",
       "      <td>4213.000000</td>\n",
       "      <td>4213.000000</td>\n",
       "      <td>...</td>\n",
       "      <td>4213.000000</td>\n",
       "      <td>4213.000000</td>\n",
       "      <td>4213.000000</td>\n",
       "      <td>4213.00000</td>\n",
       "      <td>4213.000000</td>\n",
       "      <td>4213.000000</td>\n",
       "      <td>4213.000000</td>\n",
       "      <td>4213.000000</td>\n",
       "      <td>4213.000000</td>\n",
       "      <td>4213.000000</td>\n",
       "    </tr>\n",
       "    <tr>\n",
       "      <th>mean</th>\n",
       "      <td>15.068111</td>\n",
       "      <td>51.361025</td>\n",
       "      <td>1019.337812</td>\n",
       "      <td>0.031759</td>\n",
       "      <td>0.002808</td>\n",
       "      <td>34.056990</td>\n",
       "      <td>14.458818</td>\n",
       "      <td>20.023499</td>\n",
       "      <td>21.373368</td>\n",
       "      <td>387.759036</td>\n",
       "      <td>...</td>\n",
       "      <td>195.078452</td>\n",
       "      <td>18.978483</td>\n",
       "      <td>191.166862</td>\n",
       "      <td>16.36319</td>\n",
       "      <td>192.447911</td>\n",
       "      <td>20.583489</td>\n",
       "      <td>50.837490</td>\n",
       "      <td>59.980947</td>\n",
       "      <td>169.167651</td>\n",
       "      <td>1134.347313</td>\n",
       "    </tr>\n",
       "    <tr>\n",
       "      <th>std</th>\n",
       "      <td>8.853677</td>\n",
       "      <td>23.525864</td>\n",
       "      <td>7.022867</td>\n",
       "      <td>0.170212</td>\n",
       "      <td>0.038015</td>\n",
       "      <td>42.843638</td>\n",
       "      <td>30.711707</td>\n",
       "      <td>36.387948</td>\n",
       "      <td>38.013885</td>\n",
       "      <td>278.459293</td>\n",
       "      <td>...</td>\n",
       "      <td>106.626782</td>\n",
       "      <td>11.999960</td>\n",
       "      <td>108.760021</td>\n",
       "      <td>9.88533</td>\n",
       "      <td>106.516195</td>\n",
       "      <td>12.648899</td>\n",
       "      <td>26.638965</td>\n",
       "      <td>19.857711</td>\n",
       "      <td>64.568385</td>\n",
       "      <td>937.957247</td>\n",
       "    </tr>\n",
       "    <tr>\n",
       "      <th>min</th>\n",
       "      <td>-5.350000</td>\n",
       "      <td>7.000000</td>\n",
       "      <td>997.500000</td>\n",
       "      <td>0.000000</td>\n",
       "      <td>0.000000</td>\n",
       "      <td>0.000000</td>\n",
       "      <td>0.000000</td>\n",
       "      <td>0.000000</td>\n",
       "      <td>0.000000</td>\n",
       "      <td>0.000000</td>\n",
       "      <td>...</td>\n",
       "      <td>0.540000</td>\n",
       "      <td>0.000000</td>\n",
       "      <td>1.120000</td>\n",
       "      <td>0.00000</td>\n",
       "      <td>1.120000</td>\n",
       "      <td>0.720000</td>\n",
       "      <td>3.755323</td>\n",
       "      <td>17.727761</td>\n",
       "      <td>54.379093</td>\n",
       "      <td>0.000595</td>\n",
       "    </tr>\n",
       "    <tr>\n",
       "      <th>25%</th>\n",
       "      <td>8.390000</td>\n",
       "      <td>32.000000</td>\n",
       "      <td>1014.500000</td>\n",
       "      <td>0.000000</td>\n",
       "      <td>0.000000</td>\n",
       "      <td>0.000000</td>\n",
       "      <td>0.000000</td>\n",
       "      <td>0.000000</td>\n",
       "      <td>0.000000</td>\n",
       "      <td>142.400000</td>\n",
       "      <td>...</td>\n",
       "      <td>153.190000</td>\n",
       "      <td>10.140000</td>\n",
       "      <td>130.240000</td>\n",
       "      <td>9.18000</td>\n",
       "      <td>148.220000</td>\n",
       "      <td>11.160000</td>\n",
       "      <td>29.408181</td>\n",
       "      <td>45.291631</td>\n",
       "      <td>114.136600</td>\n",
       "      <td>231.700450</td>\n",
       "    </tr>\n",
       "    <tr>\n",
       "      <th>50%</th>\n",
       "      <td>14.750000</td>\n",
       "      <td>48.000000</td>\n",
       "      <td>1018.100000</td>\n",
       "      <td>0.000000</td>\n",
       "      <td>0.000000</td>\n",
       "      <td>8.700000</td>\n",
       "      <td>0.000000</td>\n",
       "      <td>0.000000</td>\n",
       "      <td>0.000000</td>\n",
       "      <td>381.810000</td>\n",
       "      <td>...</td>\n",
       "      <td>191.770000</td>\n",
       "      <td>16.240000</td>\n",
       "      <td>187.770000</td>\n",
       "      <td>14.49000</td>\n",
       "      <td>187.990000</td>\n",
       "      <td>18.000000</td>\n",
       "      <td>47.335557</td>\n",
       "      <td>62.142611</td>\n",
       "      <td>163.241650</td>\n",
       "      <td>971.642650</td>\n",
       "    </tr>\n",
       "    <tr>\n",
       "      <th>75%</th>\n",
       "      <td>21.290000</td>\n",
       "      <td>70.000000</td>\n",
       "      <td>1023.600000</td>\n",
       "      <td>0.000000</td>\n",
       "      <td>0.000000</td>\n",
       "      <td>100.000000</td>\n",
       "      <td>9.000000</td>\n",
       "      <td>10.000000</td>\n",
       "      <td>10.000000</td>\n",
       "      <td>599.860000</td>\n",
       "      <td>...</td>\n",
       "      <td>292.070000</td>\n",
       "      <td>26.140000</td>\n",
       "      <td>292.040000</td>\n",
       "      <td>21.97000</td>\n",
       "      <td>288.000000</td>\n",
       "      <td>27.000000</td>\n",
       "      <td>69.197492</td>\n",
       "      <td>74.346737</td>\n",
       "      <td>225.085620</td>\n",
       "      <td>2020.966700</td>\n",
       "    </tr>\n",
       "    <tr>\n",
       "      <th>max</th>\n",
       "      <td>34.900000</td>\n",
       "      <td>100.000000</td>\n",
       "      <td>1046.800000</td>\n",
       "      <td>3.200000</td>\n",
       "      <td>1.680000</td>\n",
       "      <td>100.000000</td>\n",
       "      <td>100.000000</td>\n",
       "      <td>100.000000</td>\n",
       "      <td>100.000000</td>\n",
       "      <td>952.300000</td>\n",
       "      <td>...</td>\n",
       "      <td>360.000000</td>\n",
       "      <td>66.880000</td>\n",
       "      <td>360.000000</td>\n",
       "      <td>61.11000</td>\n",
       "      <td>360.000000</td>\n",
       "      <td>84.960000</td>\n",
       "      <td>121.635920</td>\n",
       "      <td>128.415370</td>\n",
       "      <td>289.045180</td>\n",
       "      <td>3056.794100</td>\n",
       "    </tr>\n",
       "  </tbody>\n",
       "</table>\n",
       "<p>8 rows × 21 columns</p>\n",
       "</div>"
      ],
      "text/plain": [
       "       temperature_2_m_above_gnd  relative_humidity_2_m_above_gnd  \\\n",
       "count                4213.000000                      4213.000000   \n",
       "mean                   15.068111                        51.361025   \n",
       "std                     8.853677                        23.525864   \n",
       "min                    -5.350000                         7.000000   \n",
       "25%                     8.390000                        32.000000   \n",
       "50%                    14.750000                        48.000000   \n",
       "75%                    21.290000                        70.000000   \n",
       "max                    34.900000                       100.000000   \n",
       "\n",
       "       mean_sea_level_pressure_MSL  total_precipitation_sfc  \\\n",
       "count                  4213.000000              4213.000000   \n",
       "mean                   1019.337812                 0.031759   \n",
       "std                       7.022867                 0.170212   \n",
       "min                     997.500000                 0.000000   \n",
       "25%                    1014.500000                 0.000000   \n",
       "50%                    1018.100000                 0.000000   \n",
       "75%                    1023.600000                 0.000000   \n",
       "max                    1046.800000                 3.200000   \n",
       "\n",
       "       snowfall_amount_sfc  total_cloud_cover_sfc  \\\n",
       "count          4213.000000            4213.000000   \n",
       "mean              0.002808              34.056990   \n",
       "std               0.038015              42.843638   \n",
       "min               0.000000               0.000000   \n",
       "25%               0.000000               0.000000   \n",
       "50%               0.000000               8.700000   \n",
       "75%               0.000000             100.000000   \n",
       "max               1.680000             100.000000   \n",
       "\n",
       "       high_cloud_cover_high_cld_lay  medium_cloud_cover_mid_cld_lay  \\\n",
       "count                    4213.000000                     4213.000000   \n",
       "mean                       14.458818                       20.023499   \n",
       "std                        30.711707                       36.387948   \n",
       "min                         0.000000                        0.000000   \n",
       "25%                         0.000000                        0.000000   \n",
       "50%                         0.000000                        0.000000   \n",
       "75%                         9.000000                       10.000000   \n",
       "max                       100.000000                      100.000000   \n",
       "\n",
       "       low_cloud_cover_low_cld_lay  shortwave_radiation_backwards_sfc  ...  \\\n",
       "count                  4213.000000                        4213.000000  ...   \n",
       "mean                     21.373368                         387.759036  ...   \n",
       "std                      38.013885                         278.459293  ...   \n",
       "min                       0.000000                           0.000000  ...   \n",
       "25%                       0.000000                         142.400000  ...   \n",
       "50%                       0.000000                         381.810000  ...   \n",
       "75%                      10.000000                         599.860000  ...   \n",
       "max                     100.000000                         952.300000  ...   \n",
       "\n",
       "       wind_direction_10_m_above_gnd  wind_speed_80_m_above_gnd  \\\n",
       "count                    4213.000000                4213.000000   \n",
       "mean                      195.078452                  18.978483   \n",
       "std                       106.626782                  11.999960   \n",
       "min                         0.540000                   0.000000   \n",
       "25%                       153.190000                  10.140000   \n",
       "50%                       191.770000                  16.240000   \n",
       "75%                       292.070000                  26.140000   \n",
       "max                       360.000000                  66.880000   \n",
       "\n",
       "       wind_direction_80_m_above_gnd  wind_speed_900_mb  \\\n",
       "count                    4213.000000         4213.00000   \n",
       "mean                      191.166862           16.36319   \n",
       "std                       108.760021            9.88533   \n",
       "min                         1.120000            0.00000   \n",
       "25%                       130.240000            9.18000   \n",
       "50%                       187.770000           14.49000   \n",
       "75%                       292.040000           21.97000   \n",
       "max                       360.000000           61.11000   \n",
       "\n",
       "       wind_direction_900_mb  wind_gust_10_m_above_gnd  angle_of_incidence  \\\n",
       "count            4213.000000               4213.000000         4213.000000   \n",
       "mean              192.447911                 20.583489           50.837490   \n",
       "std               106.516195                 12.648899           26.638965   \n",
       "min                 1.120000                  0.720000            3.755323   \n",
       "25%               148.220000                 11.160000           29.408181   \n",
       "50%               187.990000                 18.000000           47.335557   \n",
       "75%               288.000000                 27.000000           69.197492   \n",
       "max               360.000000                 84.960000          121.635920   \n",
       "\n",
       "            zenith      azimuth  generated_power_kw  \n",
       "count  4213.000000  4213.000000         4213.000000  \n",
       "mean     59.980947   169.167651         1134.347313  \n",
       "std      19.857711    64.568385          937.957247  \n",
       "min      17.727761    54.379093            0.000595  \n",
       "25%      45.291631   114.136600          231.700450  \n",
       "50%      62.142611   163.241650          971.642650  \n",
       "75%      74.346737   225.085620         2020.966700  \n",
       "max     128.415370   289.045180         3056.794100  \n",
       "\n",
       "[8 rows x 21 columns]"
      ]
     },
     "execution_count": 386,
     "metadata": {},
     "output_type": "execute_result"
    }
   ],
   "source": [
    "df.describe()"
   ]
  },
  {
   "cell_type": "code",
   "execution_count": 387,
   "id": "3e99fd51-9c07-4c50-98b4-db4253e4cdfd",
   "metadata": {},
   "outputs": [
    {
     "data": {
      "text/html": [
       "<div>\n",
       "<style scoped>\n",
       "    .dataframe tbody tr th:only-of-type {\n",
       "        vertical-align: middle;\n",
       "    }\n",
       "\n",
       "    .dataframe tbody tr th {\n",
       "        vertical-align: top;\n",
       "    }\n",
       "\n",
       "    .dataframe thead th {\n",
       "        text-align: right;\n",
       "    }\n",
       "</style>\n",
       "<table border=\"1\" class=\"dataframe\">\n",
       "  <thead>\n",
       "    <tr style=\"text-align: right;\">\n",
       "      <th></th>\n",
       "      <th>temperature_2_m_above_gnd</th>\n",
       "      <th>relative_humidity_2_m_above_gnd</th>\n",
       "      <th>mean_sea_level_pressure_MSL</th>\n",
       "      <th>total_precipitation_sfc</th>\n",
       "      <th>snowfall_amount_sfc</th>\n",
       "      <th>total_cloud_cover_sfc</th>\n",
       "      <th>high_cloud_cover_high_cld_lay</th>\n",
       "      <th>medium_cloud_cover_mid_cld_lay</th>\n",
       "      <th>low_cloud_cover_low_cld_lay</th>\n",
       "      <th>shortwave_radiation_backwards_sfc</th>\n",
       "      <th>...</th>\n",
       "      <th>wind_direction_10_m_above_gnd</th>\n",
       "      <th>wind_speed_80_m_above_gnd</th>\n",
       "      <th>wind_direction_80_m_above_gnd</th>\n",
       "      <th>wind_speed_900_mb</th>\n",
       "      <th>wind_direction_900_mb</th>\n",
       "      <th>wind_gust_10_m_above_gnd</th>\n",
       "      <th>angle_of_incidence</th>\n",
       "      <th>zenith</th>\n",
       "      <th>azimuth</th>\n",
       "      <th>generated_power_kw</th>\n",
       "    </tr>\n",
       "  </thead>\n",
       "  <tbody>\n",
       "    <tr>\n",
       "      <th>temperature_2_m_above_gnd</th>\n",
       "      <td>1.000000</td>\n",
       "      <td>-0.771704</td>\n",
       "      <td>-0.402240</td>\n",
       "      <td>-0.083137</td>\n",
       "      <td>-0.121422</td>\n",
       "      <td>-0.326641</td>\n",
       "      <td>-0.019522</td>\n",
       "      <td>-0.100980</td>\n",
       "      <td>-0.381876</td>\n",
       "      <td>0.665755</td>\n",
       "      <td>...</td>\n",
       "      <td>0.051393</td>\n",
       "      <td>-0.244869</td>\n",
       "      <td>0.086630</td>\n",
       "      <td>-0.198107</td>\n",
       "      <td>0.043233</td>\n",
       "      <td>-0.188264</td>\n",
       "      <td>-0.090173</td>\n",
       "      <td>-0.545646</td>\n",
       "      <td>0.381797</td>\n",
       "      <td>0.217280</td>\n",
       "    </tr>\n",
       "    <tr>\n",
       "      <th>relative_humidity_2_m_above_gnd</th>\n",
       "      <td>-0.771704</td>\n",
       "      <td>1.000000</td>\n",
       "      <td>0.100529</td>\n",
       "      <td>0.168660</td>\n",
       "      <td>0.113987</td>\n",
       "      <td>0.402895</td>\n",
       "      <td>0.056452</td>\n",
       "      <td>0.135347</td>\n",
       "      <td>0.490402</td>\n",
       "      <td>-0.721754</td>\n",
       "      <td>...</td>\n",
       "      <td>0.008902</td>\n",
       "      <td>0.212868</td>\n",
       "      <td>-0.019408</td>\n",
       "      <td>0.135464</td>\n",
       "      <td>0.021068</td>\n",
       "      <td>0.144807</td>\n",
       "      <td>0.268460</td>\n",
       "      <td>0.513748</td>\n",
       "      <td>-0.525760</td>\n",
       "      <td>-0.336783</td>\n",
       "    </tr>\n",
       "    <tr>\n",
       "      <th>mean_sea_level_pressure_MSL</th>\n",
       "      <td>-0.402240</td>\n",
       "      <td>0.100529</td>\n",
       "      <td>1.000000</td>\n",
       "      <td>-0.159098</td>\n",
       "      <td>-0.053871</td>\n",
       "      <td>-0.151995</td>\n",
       "      <td>-0.014646</td>\n",
       "      <td>-0.129812</td>\n",
       "      <td>-0.162043</td>\n",
       "      <td>-0.188387</td>\n",
       "      <td>...</td>\n",
       "      <td>-0.119867</td>\n",
       "      <td>-0.131442</td>\n",
       "      <td>-0.161020</td>\n",
       "      <td>-0.145696</td>\n",
       "      <td>-0.125234</td>\n",
       "      <td>-0.189266</td>\n",
       "      <td>-0.075619</td>\n",
       "      <td>0.268111</td>\n",
       "      <td>-0.137872</td>\n",
       "      <td>0.150551</td>\n",
       "    </tr>\n",
       "    <tr>\n",
       "      <th>total_precipitation_sfc</th>\n",
       "      <td>-0.083137</td>\n",
       "      <td>0.168660</td>\n",
       "      <td>-0.159098</td>\n",
       "      <td>1.000000</td>\n",
       "      <td>0.184497</td>\n",
       "      <td>0.223678</td>\n",
       "      <td>0.076255</td>\n",
       "      <td>0.262367</td>\n",
       "      <td>0.282748</td>\n",
       "      <td>-0.130358</td>\n",
       "      <td>...</td>\n",
       "      <td>0.005234</td>\n",
       "      <td>0.052376</td>\n",
       "      <td>0.007131</td>\n",
       "      <td>0.044797</td>\n",
       "      <td>0.003216</td>\n",
       "      <td>0.066701</td>\n",
       "      <td>-0.020965</td>\n",
       "      <td>-0.023408</td>\n",
       "      <td>0.005749</td>\n",
       "      <td>-0.118442</td>\n",
       "    </tr>\n",
       "    <tr>\n",
       "      <th>snowfall_amount_sfc</th>\n",
       "      <td>-0.121422</td>\n",
       "      <td>0.113987</td>\n",
       "      <td>-0.053871</td>\n",
       "      <td>0.184497</td>\n",
       "      <td>1.000000</td>\n",
       "      <td>0.112646</td>\n",
       "      <td>-0.026356</td>\n",
       "      <td>0.042867</td>\n",
       "      <td>0.151609</td>\n",
       "      <td>-0.073499</td>\n",
       "      <td>...</td>\n",
       "      <td>0.039734</td>\n",
       "      <td>0.093156</td>\n",
       "      <td>0.041246</td>\n",
       "      <td>0.100405</td>\n",
       "      <td>0.041716</td>\n",
       "      <td>0.093060</td>\n",
       "      <td>-0.012497</td>\n",
       "      <td>0.033554</td>\n",
       "      <td>0.008426</td>\n",
       "      <td>-0.049508</td>\n",
       "    </tr>\n",
       "    <tr>\n",
       "      <th>total_cloud_cover_sfc</th>\n",
       "      <td>-0.326641</td>\n",
       "      <td>0.402895</td>\n",
       "      <td>-0.151995</td>\n",
       "      <td>0.223678</td>\n",
       "      <td>0.112646</td>\n",
       "      <td>1.000000</td>\n",
       "      <td>0.442865</td>\n",
       "      <td>0.712077</td>\n",
       "      <td>0.746225</td>\n",
       "      <td>-0.345089</td>\n",
       "      <td>...</td>\n",
       "      <td>0.055057</td>\n",
       "      <td>0.183732</td>\n",
       "      <td>0.039671</td>\n",
       "      <td>0.174510</td>\n",
       "      <td>0.057816</td>\n",
       "      <td>0.212142</td>\n",
       "      <td>-0.003426</td>\n",
       "      <td>0.136249</td>\n",
       "      <td>-0.037427</td>\n",
       "      <td>-0.334338</td>\n",
       "    </tr>\n",
       "    <tr>\n",
       "      <th>high_cloud_cover_high_cld_lay</th>\n",
       "      <td>-0.019522</td>\n",
       "      <td>0.056452</td>\n",
       "      <td>-0.014646</td>\n",
       "      <td>0.076255</td>\n",
       "      <td>-0.026356</td>\n",
       "      <td>0.442865</td>\n",
       "      <td>1.000000</td>\n",
       "      <td>0.593300</td>\n",
       "      <td>0.024703</td>\n",
       "      <td>-0.089620</td>\n",
       "      <td>...</td>\n",
       "      <td>0.017688</td>\n",
       "      <td>0.090049</td>\n",
       "      <td>0.018228</td>\n",
       "      <td>0.078204</td>\n",
       "      <td>0.020897</td>\n",
       "      <td>0.092842</td>\n",
       "      <td>-0.033840</td>\n",
       "      <td>0.031766</td>\n",
       "      <td>0.020790</td>\n",
       "      <td>-0.147723</td>\n",
       "    </tr>\n",
       "    <tr>\n",
       "      <th>medium_cloud_cover_mid_cld_lay</th>\n",
       "      <td>-0.100980</td>\n",
       "      <td>0.135347</td>\n",
       "      <td>-0.129812</td>\n",
       "      <td>0.262367</td>\n",
       "      <td>0.042867</td>\n",
       "      <td>0.712077</td>\n",
       "      <td>0.593300</td>\n",
       "      <td>1.000000</td>\n",
       "      <td>0.236716</td>\n",
       "      <td>-0.199843</td>\n",
       "      <td>...</td>\n",
       "      <td>0.016954</td>\n",
       "      <td>0.088972</td>\n",
       "      <td>0.021935</td>\n",
       "      <td>0.076192</td>\n",
       "      <td>0.017195</td>\n",
       "      <td>0.079627</td>\n",
       "      <td>-0.035511</td>\n",
       "      <td>0.046719</td>\n",
       "      <td>0.014802</td>\n",
       "      <td>-0.227834</td>\n",
       "    </tr>\n",
       "    <tr>\n",
       "      <th>low_cloud_cover_low_cld_lay</th>\n",
       "      <td>-0.381876</td>\n",
       "      <td>0.490402</td>\n",
       "      <td>-0.162043</td>\n",
       "      <td>0.282748</td>\n",
       "      <td>0.151609</td>\n",
       "      <td>0.746225</td>\n",
       "      <td>0.024703</td>\n",
       "      <td>0.236716</td>\n",
       "      <td>1.000000</td>\n",
       "      <td>-0.336751</td>\n",
       "      <td>...</td>\n",
       "      <td>0.040060</td>\n",
       "      <td>0.156204</td>\n",
       "      <td>0.021782</td>\n",
       "      <td>0.153578</td>\n",
       "      <td>0.039875</td>\n",
       "      <td>0.193846</td>\n",
       "      <td>0.013421</td>\n",
       "      <td>0.120854</td>\n",
       "      <td>-0.054328</td>\n",
       "      <td>-0.288066</td>\n",
       "    </tr>\n",
       "    <tr>\n",
       "      <th>shortwave_radiation_backwards_sfc</th>\n",
       "      <td>0.665755</td>\n",
       "      <td>-0.721754</td>\n",
       "      <td>-0.188387</td>\n",
       "      <td>-0.130358</td>\n",
       "      <td>-0.073499</td>\n",
       "      <td>-0.345089</td>\n",
       "      <td>-0.089620</td>\n",
       "      <td>-0.199843</td>\n",
       "      <td>-0.336751</td>\n",
       "      <td>1.000000</td>\n",
       "      <td>...</td>\n",
       "      <td>-0.076530</td>\n",
       "      <td>-0.077090</td>\n",
       "      <td>-0.051670</td>\n",
       "      <td>0.028929</td>\n",
       "      <td>-0.081545</td>\n",
       "      <td>0.017212</td>\n",
       "      <td>-0.576921</td>\n",
       "      <td>-0.801892</td>\n",
       "      <td>0.549296</td>\n",
       "      <td>0.556148</td>\n",
       "    </tr>\n",
       "    <tr>\n",
       "      <th>wind_speed_10_m_above_gnd</th>\n",
       "      <td>-0.172532</td>\n",
       "      <td>0.109674</td>\n",
       "      <td>-0.170199</td>\n",
       "      <td>0.044384</td>\n",
       "      <td>0.103749</td>\n",
       "      <td>0.175869</td>\n",
       "      <td>0.069620</td>\n",
       "      <td>0.069307</td>\n",
       "      <td>0.161919</td>\n",
       "      <td>0.078791</td>\n",
       "      <td>...</td>\n",
       "      <td>-0.035788</td>\n",
       "      <td>0.957745</td>\n",
       "      <td>-0.005156</td>\n",
       "      <td>0.992851</td>\n",
       "      <td>-0.017289</td>\n",
       "      <td>0.898893</td>\n",
       "      <td>-0.173060</td>\n",
       "      <td>-0.041168</td>\n",
       "      <td>0.194680</td>\n",
       "      <td>-0.083043</td>\n",
       "    </tr>\n",
       "    <tr>\n",
       "      <th>wind_direction_10_m_above_gnd</th>\n",
       "      <td>0.051393</td>\n",
       "      <td>0.008902</td>\n",
       "      <td>-0.119867</td>\n",
       "      <td>0.005234</td>\n",
       "      <td>0.039734</td>\n",
       "      <td>0.055057</td>\n",
       "      <td>0.017688</td>\n",
       "      <td>0.016954</td>\n",
       "      <td>0.040060</td>\n",
       "      <td>-0.076530</td>\n",
       "      <td>...</td>\n",
       "      <td>1.000000</td>\n",
       "      <td>-0.023300</td>\n",
       "      <td>0.891487</td>\n",
       "      <td>-0.046880</td>\n",
       "      <td>0.930226</td>\n",
       "      <td>0.059981</td>\n",
       "      <td>0.054676</td>\n",
       "      <td>0.044775</td>\n",
       "      <td>0.009908</td>\n",
       "      <td>-0.073257</td>\n",
       "    </tr>\n",
       "    <tr>\n",
       "      <th>wind_speed_80_m_above_gnd</th>\n",
       "      <td>-0.244869</td>\n",
       "      <td>0.212868</td>\n",
       "      <td>-0.131442</td>\n",
       "      <td>0.052376</td>\n",
       "      <td>0.093156</td>\n",
       "      <td>0.183732</td>\n",
       "      <td>0.090049</td>\n",
       "      <td>0.088972</td>\n",
       "      <td>0.156204</td>\n",
       "      <td>-0.077090</td>\n",
       "      <td>...</td>\n",
       "      <td>-0.023300</td>\n",
       "      <td>1.000000</td>\n",
       "      <td>0.005862</td>\n",
       "      <td>0.969352</td>\n",
       "      <td>-0.003115</td>\n",
       "      <td>0.898347</td>\n",
       "      <td>-0.049618</td>\n",
       "      <td>0.091319</td>\n",
       "      <td>0.064278</td>\n",
       "      <td>-0.157899</td>\n",
       "    </tr>\n",
       "    <tr>\n",
       "      <th>wind_direction_80_m_above_gnd</th>\n",
       "      <td>0.086630</td>\n",
       "      <td>-0.019408</td>\n",
       "      <td>-0.161020</td>\n",
       "      <td>0.007131</td>\n",
       "      <td>0.041246</td>\n",
       "      <td>0.039671</td>\n",
       "      <td>0.018228</td>\n",
       "      <td>0.021935</td>\n",
       "      <td>0.021782</td>\n",
       "      <td>-0.051670</td>\n",
       "      <td>...</td>\n",
       "      <td>0.891487</td>\n",
       "      <td>0.005862</td>\n",
       "      <td>1.000000</td>\n",
       "      <td>-0.014577</td>\n",
       "      <td>0.919390</td>\n",
       "      <td>0.065285</td>\n",
       "      <td>0.051170</td>\n",
       "      <td>0.029259</td>\n",
       "      <td>0.017849</td>\n",
       "      <td>-0.069941</td>\n",
       "    </tr>\n",
       "    <tr>\n",
       "      <th>wind_speed_900_mb</th>\n",
       "      <td>-0.198107</td>\n",
       "      <td>0.135464</td>\n",
       "      <td>-0.145696</td>\n",
       "      <td>0.044797</td>\n",
       "      <td>0.100405</td>\n",
       "      <td>0.174510</td>\n",
       "      <td>0.078204</td>\n",
       "      <td>0.076192</td>\n",
       "      <td>0.153578</td>\n",
       "      <td>0.028929</td>\n",
       "      <td>...</td>\n",
       "      <td>-0.046880</td>\n",
       "      <td>0.969352</td>\n",
       "      <td>-0.014577</td>\n",
       "      <td>1.000000</td>\n",
       "      <td>-0.026721</td>\n",
       "      <td>0.894006</td>\n",
       "      <td>-0.136442</td>\n",
       "      <td>0.004675</td>\n",
       "      <td>0.155932</td>\n",
       "      <td>-0.107615</td>\n",
       "    </tr>\n",
       "    <tr>\n",
       "      <th>wind_direction_900_mb</th>\n",
       "      <td>0.043233</td>\n",
       "      <td>0.021068</td>\n",
       "      <td>-0.125234</td>\n",
       "      <td>0.003216</td>\n",
       "      <td>0.041716</td>\n",
       "      <td>0.057816</td>\n",
       "      <td>0.020897</td>\n",
       "      <td>0.017195</td>\n",
       "      <td>0.039875</td>\n",
       "      <td>-0.081545</td>\n",
       "      <td>...</td>\n",
       "      <td>0.930226</td>\n",
       "      <td>-0.003115</td>\n",
       "      <td>0.919390</td>\n",
       "      <td>-0.026721</td>\n",
       "      <td>1.000000</td>\n",
       "      <td>0.071530</td>\n",
       "      <td>0.056517</td>\n",
       "      <td>0.048158</td>\n",
       "      <td>-0.000427</td>\n",
       "      <td>-0.077435</td>\n",
       "    </tr>\n",
       "    <tr>\n",
       "      <th>wind_gust_10_m_above_gnd</th>\n",
       "      <td>-0.188264</td>\n",
       "      <td>0.144807</td>\n",
       "      <td>-0.189266</td>\n",
       "      <td>0.066701</td>\n",
       "      <td>0.093060</td>\n",
       "      <td>0.212142</td>\n",
       "      <td>0.092842</td>\n",
       "      <td>0.079627</td>\n",
       "      <td>0.193846</td>\n",
       "      <td>0.017212</td>\n",
       "      <td>...</td>\n",
       "      <td>0.059981</td>\n",
       "      <td>0.898347</td>\n",
       "      <td>0.065285</td>\n",
       "      <td>0.894006</td>\n",
       "      <td>0.071530</td>\n",
       "      <td>1.000000</td>\n",
       "      <td>-0.122335</td>\n",
       "      <td>-0.006612</td>\n",
       "      <td>0.152166</td>\n",
       "      <td>-0.122808</td>\n",
       "    </tr>\n",
       "    <tr>\n",
       "      <th>angle_of_incidence</th>\n",
       "      <td>-0.090173</td>\n",
       "      <td>0.268460</td>\n",
       "      <td>-0.075619</td>\n",
       "      <td>-0.020965</td>\n",
       "      <td>-0.012497</td>\n",
       "      <td>-0.003426</td>\n",
       "      <td>-0.033840</td>\n",
       "      <td>-0.035511</td>\n",
       "      <td>0.013421</td>\n",
       "      <td>-0.576921</td>\n",
       "      <td>...</td>\n",
       "      <td>0.054676</td>\n",
       "      <td>-0.049618</td>\n",
       "      <td>0.051170</td>\n",
       "      <td>-0.136442</td>\n",
       "      <td>0.056517</td>\n",
       "      <td>-0.122335</td>\n",
       "      <td>1.000000</td>\n",
       "      <td>0.712773</td>\n",
       "      <td>-0.288647</td>\n",
       "      <td>-0.646537</td>\n",
       "    </tr>\n",
       "    <tr>\n",
       "      <th>zenith</th>\n",
       "      <td>-0.545646</td>\n",
       "      <td>0.513748</td>\n",
       "      <td>0.268111</td>\n",
       "      <td>-0.023408</td>\n",
       "      <td>0.033554</td>\n",
       "      <td>0.136249</td>\n",
       "      <td>0.031766</td>\n",
       "      <td>0.046719</td>\n",
       "      <td>0.120854</td>\n",
       "      <td>-0.801892</td>\n",
       "      <td>...</td>\n",
       "      <td>0.044775</td>\n",
       "      <td>0.091319</td>\n",
       "      <td>0.029259</td>\n",
       "      <td>0.004675</td>\n",
       "      <td>0.048158</td>\n",
       "      <td>-0.006612</td>\n",
       "      <td>0.712773</td>\n",
       "      <td>1.000000</td>\n",
       "      <td>-0.247447</td>\n",
       "      <td>-0.649991</td>\n",
       "    </tr>\n",
       "    <tr>\n",
       "      <th>azimuth</th>\n",
       "      <td>0.381797</td>\n",
       "      <td>-0.525760</td>\n",
       "      <td>-0.137872</td>\n",
       "      <td>0.005749</td>\n",
       "      <td>0.008426</td>\n",
       "      <td>-0.037427</td>\n",
       "      <td>0.020790</td>\n",
       "      <td>0.014802</td>\n",
       "      <td>-0.054328</td>\n",
       "      <td>0.549296</td>\n",
       "      <td>...</td>\n",
       "      <td>0.009908</td>\n",
       "      <td>0.064278</td>\n",
       "      <td>0.017849</td>\n",
       "      <td>0.155932</td>\n",
       "      <td>-0.000427</td>\n",
       "      <td>0.152166</td>\n",
       "      <td>-0.288647</td>\n",
       "      <td>-0.247447</td>\n",
       "      <td>1.000000</td>\n",
       "      <td>-0.061184</td>\n",
       "    </tr>\n",
       "    <tr>\n",
       "      <th>generated_power_kw</th>\n",
       "      <td>0.217280</td>\n",
       "      <td>-0.336783</td>\n",
       "      <td>0.150551</td>\n",
       "      <td>-0.118442</td>\n",
       "      <td>-0.049508</td>\n",
       "      <td>-0.334338</td>\n",
       "      <td>-0.147723</td>\n",
       "      <td>-0.227834</td>\n",
       "      <td>-0.288066</td>\n",
       "      <td>0.556148</td>\n",
       "      <td>...</td>\n",
       "      <td>-0.073257</td>\n",
       "      <td>-0.157899</td>\n",
       "      <td>-0.069941</td>\n",
       "      <td>-0.107615</td>\n",
       "      <td>-0.077435</td>\n",
       "      <td>-0.122808</td>\n",
       "      <td>-0.646537</td>\n",
       "      <td>-0.649991</td>\n",
       "      <td>-0.061184</td>\n",
       "      <td>1.000000</td>\n",
       "    </tr>\n",
       "  </tbody>\n",
       "</table>\n",
       "<p>21 rows × 21 columns</p>\n",
       "</div>"
      ],
      "text/plain": [
       "                                   temperature_2_m_above_gnd  \\\n",
       "temperature_2_m_above_gnd                           1.000000   \n",
       "relative_humidity_2_m_above_gnd                    -0.771704   \n",
       "mean_sea_level_pressure_MSL                        -0.402240   \n",
       "total_precipitation_sfc                            -0.083137   \n",
       "snowfall_amount_sfc                                -0.121422   \n",
       "total_cloud_cover_sfc                              -0.326641   \n",
       "high_cloud_cover_high_cld_lay                      -0.019522   \n",
       "medium_cloud_cover_mid_cld_lay                     -0.100980   \n",
       "low_cloud_cover_low_cld_lay                        -0.381876   \n",
       "shortwave_radiation_backwards_sfc                   0.665755   \n",
       "wind_speed_10_m_above_gnd                          -0.172532   \n",
       "wind_direction_10_m_above_gnd                       0.051393   \n",
       "wind_speed_80_m_above_gnd                          -0.244869   \n",
       "wind_direction_80_m_above_gnd                       0.086630   \n",
       "wind_speed_900_mb                                  -0.198107   \n",
       "wind_direction_900_mb                               0.043233   \n",
       "wind_gust_10_m_above_gnd                           -0.188264   \n",
       "angle_of_incidence                                 -0.090173   \n",
       "zenith                                             -0.545646   \n",
       "azimuth                                             0.381797   \n",
       "generated_power_kw                                  0.217280   \n",
       "\n",
       "                                   relative_humidity_2_m_above_gnd  \\\n",
       "temperature_2_m_above_gnd                                -0.771704   \n",
       "relative_humidity_2_m_above_gnd                           1.000000   \n",
       "mean_sea_level_pressure_MSL                               0.100529   \n",
       "total_precipitation_sfc                                   0.168660   \n",
       "snowfall_amount_sfc                                       0.113987   \n",
       "total_cloud_cover_sfc                                     0.402895   \n",
       "high_cloud_cover_high_cld_lay                             0.056452   \n",
       "medium_cloud_cover_mid_cld_lay                            0.135347   \n",
       "low_cloud_cover_low_cld_lay                               0.490402   \n",
       "shortwave_radiation_backwards_sfc                        -0.721754   \n",
       "wind_speed_10_m_above_gnd                                 0.109674   \n",
       "wind_direction_10_m_above_gnd                             0.008902   \n",
       "wind_speed_80_m_above_gnd                                 0.212868   \n",
       "wind_direction_80_m_above_gnd                            -0.019408   \n",
       "wind_speed_900_mb                                         0.135464   \n",
       "wind_direction_900_mb                                     0.021068   \n",
       "wind_gust_10_m_above_gnd                                  0.144807   \n",
       "angle_of_incidence                                        0.268460   \n",
       "zenith                                                    0.513748   \n",
       "azimuth                                                  -0.525760   \n",
       "generated_power_kw                                       -0.336783   \n",
       "\n",
       "                                   mean_sea_level_pressure_MSL  \\\n",
       "temperature_2_m_above_gnd                            -0.402240   \n",
       "relative_humidity_2_m_above_gnd                       0.100529   \n",
       "mean_sea_level_pressure_MSL                           1.000000   \n",
       "total_precipitation_sfc                              -0.159098   \n",
       "snowfall_amount_sfc                                  -0.053871   \n",
       "total_cloud_cover_sfc                                -0.151995   \n",
       "high_cloud_cover_high_cld_lay                        -0.014646   \n",
       "medium_cloud_cover_mid_cld_lay                       -0.129812   \n",
       "low_cloud_cover_low_cld_lay                          -0.162043   \n",
       "shortwave_radiation_backwards_sfc                    -0.188387   \n",
       "wind_speed_10_m_above_gnd                            -0.170199   \n",
       "wind_direction_10_m_above_gnd                        -0.119867   \n",
       "wind_speed_80_m_above_gnd                            -0.131442   \n",
       "wind_direction_80_m_above_gnd                        -0.161020   \n",
       "wind_speed_900_mb                                    -0.145696   \n",
       "wind_direction_900_mb                                -0.125234   \n",
       "wind_gust_10_m_above_gnd                             -0.189266   \n",
       "angle_of_incidence                                   -0.075619   \n",
       "zenith                                                0.268111   \n",
       "azimuth                                              -0.137872   \n",
       "generated_power_kw                                    0.150551   \n",
       "\n",
       "                                   total_precipitation_sfc  \\\n",
       "temperature_2_m_above_gnd                        -0.083137   \n",
       "relative_humidity_2_m_above_gnd                   0.168660   \n",
       "mean_sea_level_pressure_MSL                      -0.159098   \n",
       "total_precipitation_sfc                           1.000000   \n",
       "snowfall_amount_sfc                               0.184497   \n",
       "total_cloud_cover_sfc                             0.223678   \n",
       "high_cloud_cover_high_cld_lay                     0.076255   \n",
       "medium_cloud_cover_mid_cld_lay                    0.262367   \n",
       "low_cloud_cover_low_cld_lay                       0.282748   \n",
       "shortwave_radiation_backwards_sfc                -0.130358   \n",
       "wind_speed_10_m_above_gnd                         0.044384   \n",
       "wind_direction_10_m_above_gnd                     0.005234   \n",
       "wind_speed_80_m_above_gnd                         0.052376   \n",
       "wind_direction_80_m_above_gnd                     0.007131   \n",
       "wind_speed_900_mb                                 0.044797   \n",
       "wind_direction_900_mb                             0.003216   \n",
       "wind_gust_10_m_above_gnd                          0.066701   \n",
       "angle_of_incidence                               -0.020965   \n",
       "zenith                                           -0.023408   \n",
       "azimuth                                           0.005749   \n",
       "generated_power_kw                               -0.118442   \n",
       "\n",
       "                                   snowfall_amount_sfc  total_cloud_cover_sfc  \\\n",
       "temperature_2_m_above_gnd                    -0.121422              -0.326641   \n",
       "relative_humidity_2_m_above_gnd               0.113987               0.402895   \n",
       "mean_sea_level_pressure_MSL                  -0.053871              -0.151995   \n",
       "total_precipitation_sfc                       0.184497               0.223678   \n",
       "snowfall_amount_sfc                           1.000000               0.112646   \n",
       "total_cloud_cover_sfc                         0.112646               1.000000   \n",
       "high_cloud_cover_high_cld_lay                -0.026356               0.442865   \n",
       "medium_cloud_cover_mid_cld_lay                0.042867               0.712077   \n",
       "low_cloud_cover_low_cld_lay                   0.151609               0.746225   \n",
       "shortwave_radiation_backwards_sfc            -0.073499              -0.345089   \n",
       "wind_speed_10_m_above_gnd                     0.103749               0.175869   \n",
       "wind_direction_10_m_above_gnd                 0.039734               0.055057   \n",
       "wind_speed_80_m_above_gnd                     0.093156               0.183732   \n",
       "wind_direction_80_m_above_gnd                 0.041246               0.039671   \n",
       "wind_speed_900_mb                             0.100405               0.174510   \n",
       "wind_direction_900_mb                         0.041716               0.057816   \n",
       "wind_gust_10_m_above_gnd                      0.093060               0.212142   \n",
       "angle_of_incidence                           -0.012497              -0.003426   \n",
       "zenith                                        0.033554               0.136249   \n",
       "azimuth                                       0.008426              -0.037427   \n",
       "generated_power_kw                           -0.049508              -0.334338   \n",
       "\n",
       "                                   high_cloud_cover_high_cld_lay  \\\n",
       "temperature_2_m_above_gnd                              -0.019522   \n",
       "relative_humidity_2_m_above_gnd                         0.056452   \n",
       "mean_sea_level_pressure_MSL                            -0.014646   \n",
       "total_precipitation_sfc                                 0.076255   \n",
       "snowfall_amount_sfc                                    -0.026356   \n",
       "total_cloud_cover_sfc                                   0.442865   \n",
       "high_cloud_cover_high_cld_lay                           1.000000   \n",
       "medium_cloud_cover_mid_cld_lay                          0.593300   \n",
       "low_cloud_cover_low_cld_lay                             0.024703   \n",
       "shortwave_radiation_backwards_sfc                      -0.089620   \n",
       "wind_speed_10_m_above_gnd                               0.069620   \n",
       "wind_direction_10_m_above_gnd                           0.017688   \n",
       "wind_speed_80_m_above_gnd                               0.090049   \n",
       "wind_direction_80_m_above_gnd                           0.018228   \n",
       "wind_speed_900_mb                                       0.078204   \n",
       "wind_direction_900_mb                                   0.020897   \n",
       "wind_gust_10_m_above_gnd                                0.092842   \n",
       "angle_of_incidence                                     -0.033840   \n",
       "zenith                                                  0.031766   \n",
       "azimuth                                                 0.020790   \n",
       "generated_power_kw                                     -0.147723   \n",
       "\n",
       "                                   medium_cloud_cover_mid_cld_lay  \\\n",
       "temperature_2_m_above_gnd                               -0.100980   \n",
       "relative_humidity_2_m_above_gnd                          0.135347   \n",
       "mean_sea_level_pressure_MSL                             -0.129812   \n",
       "total_precipitation_sfc                                  0.262367   \n",
       "snowfall_amount_sfc                                      0.042867   \n",
       "total_cloud_cover_sfc                                    0.712077   \n",
       "high_cloud_cover_high_cld_lay                            0.593300   \n",
       "medium_cloud_cover_mid_cld_lay                           1.000000   \n",
       "low_cloud_cover_low_cld_lay                              0.236716   \n",
       "shortwave_radiation_backwards_sfc                       -0.199843   \n",
       "wind_speed_10_m_above_gnd                                0.069307   \n",
       "wind_direction_10_m_above_gnd                            0.016954   \n",
       "wind_speed_80_m_above_gnd                                0.088972   \n",
       "wind_direction_80_m_above_gnd                            0.021935   \n",
       "wind_speed_900_mb                                        0.076192   \n",
       "wind_direction_900_mb                                    0.017195   \n",
       "wind_gust_10_m_above_gnd                                 0.079627   \n",
       "angle_of_incidence                                      -0.035511   \n",
       "zenith                                                   0.046719   \n",
       "azimuth                                                  0.014802   \n",
       "generated_power_kw                                      -0.227834   \n",
       "\n",
       "                                   low_cloud_cover_low_cld_lay  \\\n",
       "temperature_2_m_above_gnd                            -0.381876   \n",
       "relative_humidity_2_m_above_gnd                       0.490402   \n",
       "mean_sea_level_pressure_MSL                          -0.162043   \n",
       "total_precipitation_sfc                               0.282748   \n",
       "snowfall_amount_sfc                                   0.151609   \n",
       "total_cloud_cover_sfc                                 0.746225   \n",
       "high_cloud_cover_high_cld_lay                         0.024703   \n",
       "medium_cloud_cover_mid_cld_lay                        0.236716   \n",
       "low_cloud_cover_low_cld_lay                           1.000000   \n",
       "shortwave_radiation_backwards_sfc                    -0.336751   \n",
       "wind_speed_10_m_above_gnd                             0.161919   \n",
       "wind_direction_10_m_above_gnd                         0.040060   \n",
       "wind_speed_80_m_above_gnd                             0.156204   \n",
       "wind_direction_80_m_above_gnd                         0.021782   \n",
       "wind_speed_900_mb                                     0.153578   \n",
       "wind_direction_900_mb                                 0.039875   \n",
       "wind_gust_10_m_above_gnd                              0.193846   \n",
       "angle_of_incidence                                    0.013421   \n",
       "zenith                                                0.120854   \n",
       "azimuth                                              -0.054328   \n",
       "generated_power_kw                                   -0.288066   \n",
       "\n",
       "                                   shortwave_radiation_backwards_sfc  ...  \\\n",
       "temperature_2_m_above_gnd                                   0.665755  ...   \n",
       "relative_humidity_2_m_above_gnd                            -0.721754  ...   \n",
       "mean_sea_level_pressure_MSL                                -0.188387  ...   \n",
       "total_precipitation_sfc                                    -0.130358  ...   \n",
       "snowfall_amount_sfc                                        -0.073499  ...   \n",
       "total_cloud_cover_sfc                                      -0.345089  ...   \n",
       "high_cloud_cover_high_cld_lay                              -0.089620  ...   \n",
       "medium_cloud_cover_mid_cld_lay                             -0.199843  ...   \n",
       "low_cloud_cover_low_cld_lay                                -0.336751  ...   \n",
       "shortwave_radiation_backwards_sfc                           1.000000  ...   \n",
       "wind_speed_10_m_above_gnd                                   0.078791  ...   \n",
       "wind_direction_10_m_above_gnd                              -0.076530  ...   \n",
       "wind_speed_80_m_above_gnd                                  -0.077090  ...   \n",
       "wind_direction_80_m_above_gnd                              -0.051670  ...   \n",
       "wind_speed_900_mb                                           0.028929  ...   \n",
       "wind_direction_900_mb                                      -0.081545  ...   \n",
       "wind_gust_10_m_above_gnd                                    0.017212  ...   \n",
       "angle_of_incidence                                         -0.576921  ...   \n",
       "zenith                                                     -0.801892  ...   \n",
       "azimuth                                                     0.549296  ...   \n",
       "generated_power_kw                                          0.556148  ...   \n",
       "\n",
       "                                   wind_direction_10_m_above_gnd  \\\n",
       "temperature_2_m_above_gnd                               0.051393   \n",
       "relative_humidity_2_m_above_gnd                         0.008902   \n",
       "mean_sea_level_pressure_MSL                            -0.119867   \n",
       "total_precipitation_sfc                                 0.005234   \n",
       "snowfall_amount_sfc                                     0.039734   \n",
       "total_cloud_cover_sfc                                   0.055057   \n",
       "high_cloud_cover_high_cld_lay                           0.017688   \n",
       "medium_cloud_cover_mid_cld_lay                          0.016954   \n",
       "low_cloud_cover_low_cld_lay                             0.040060   \n",
       "shortwave_radiation_backwards_sfc                      -0.076530   \n",
       "wind_speed_10_m_above_gnd                              -0.035788   \n",
       "wind_direction_10_m_above_gnd                           1.000000   \n",
       "wind_speed_80_m_above_gnd                              -0.023300   \n",
       "wind_direction_80_m_above_gnd                           0.891487   \n",
       "wind_speed_900_mb                                      -0.046880   \n",
       "wind_direction_900_mb                                   0.930226   \n",
       "wind_gust_10_m_above_gnd                                0.059981   \n",
       "angle_of_incidence                                      0.054676   \n",
       "zenith                                                  0.044775   \n",
       "azimuth                                                 0.009908   \n",
       "generated_power_kw                                     -0.073257   \n",
       "\n",
       "                                   wind_speed_80_m_above_gnd  \\\n",
       "temperature_2_m_above_gnd                          -0.244869   \n",
       "relative_humidity_2_m_above_gnd                     0.212868   \n",
       "mean_sea_level_pressure_MSL                        -0.131442   \n",
       "total_precipitation_sfc                             0.052376   \n",
       "snowfall_amount_sfc                                 0.093156   \n",
       "total_cloud_cover_sfc                               0.183732   \n",
       "high_cloud_cover_high_cld_lay                       0.090049   \n",
       "medium_cloud_cover_mid_cld_lay                      0.088972   \n",
       "low_cloud_cover_low_cld_lay                         0.156204   \n",
       "shortwave_radiation_backwards_sfc                  -0.077090   \n",
       "wind_speed_10_m_above_gnd                           0.957745   \n",
       "wind_direction_10_m_above_gnd                      -0.023300   \n",
       "wind_speed_80_m_above_gnd                           1.000000   \n",
       "wind_direction_80_m_above_gnd                       0.005862   \n",
       "wind_speed_900_mb                                   0.969352   \n",
       "wind_direction_900_mb                              -0.003115   \n",
       "wind_gust_10_m_above_gnd                            0.898347   \n",
       "angle_of_incidence                                 -0.049618   \n",
       "zenith                                              0.091319   \n",
       "azimuth                                             0.064278   \n",
       "generated_power_kw                                 -0.157899   \n",
       "\n",
       "                                   wind_direction_80_m_above_gnd  \\\n",
       "temperature_2_m_above_gnd                               0.086630   \n",
       "relative_humidity_2_m_above_gnd                        -0.019408   \n",
       "mean_sea_level_pressure_MSL                            -0.161020   \n",
       "total_precipitation_sfc                                 0.007131   \n",
       "snowfall_amount_sfc                                     0.041246   \n",
       "total_cloud_cover_sfc                                   0.039671   \n",
       "high_cloud_cover_high_cld_lay                           0.018228   \n",
       "medium_cloud_cover_mid_cld_lay                          0.021935   \n",
       "low_cloud_cover_low_cld_lay                             0.021782   \n",
       "shortwave_radiation_backwards_sfc                      -0.051670   \n",
       "wind_speed_10_m_above_gnd                              -0.005156   \n",
       "wind_direction_10_m_above_gnd                           0.891487   \n",
       "wind_speed_80_m_above_gnd                               0.005862   \n",
       "wind_direction_80_m_above_gnd                           1.000000   \n",
       "wind_speed_900_mb                                      -0.014577   \n",
       "wind_direction_900_mb                                   0.919390   \n",
       "wind_gust_10_m_above_gnd                                0.065285   \n",
       "angle_of_incidence                                      0.051170   \n",
       "zenith                                                  0.029259   \n",
       "azimuth                                                 0.017849   \n",
       "generated_power_kw                                     -0.069941   \n",
       "\n",
       "                                   wind_speed_900_mb  wind_direction_900_mb  \\\n",
       "temperature_2_m_above_gnd                  -0.198107               0.043233   \n",
       "relative_humidity_2_m_above_gnd             0.135464               0.021068   \n",
       "mean_sea_level_pressure_MSL                -0.145696              -0.125234   \n",
       "total_precipitation_sfc                     0.044797               0.003216   \n",
       "snowfall_amount_sfc                         0.100405               0.041716   \n",
       "total_cloud_cover_sfc                       0.174510               0.057816   \n",
       "high_cloud_cover_high_cld_lay               0.078204               0.020897   \n",
       "medium_cloud_cover_mid_cld_lay              0.076192               0.017195   \n",
       "low_cloud_cover_low_cld_lay                 0.153578               0.039875   \n",
       "shortwave_radiation_backwards_sfc           0.028929              -0.081545   \n",
       "wind_speed_10_m_above_gnd                   0.992851              -0.017289   \n",
       "wind_direction_10_m_above_gnd              -0.046880               0.930226   \n",
       "wind_speed_80_m_above_gnd                   0.969352              -0.003115   \n",
       "wind_direction_80_m_above_gnd              -0.014577               0.919390   \n",
       "wind_speed_900_mb                           1.000000              -0.026721   \n",
       "wind_direction_900_mb                      -0.026721               1.000000   \n",
       "wind_gust_10_m_above_gnd                    0.894006               0.071530   \n",
       "angle_of_incidence                         -0.136442               0.056517   \n",
       "zenith                                      0.004675               0.048158   \n",
       "azimuth                                     0.155932              -0.000427   \n",
       "generated_power_kw                         -0.107615              -0.077435   \n",
       "\n",
       "                                   wind_gust_10_m_above_gnd  \\\n",
       "temperature_2_m_above_gnd                         -0.188264   \n",
       "relative_humidity_2_m_above_gnd                    0.144807   \n",
       "mean_sea_level_pressure_MSL                       -0.189266   \n",
       "total_precipitation_sfc                            0.066701   \n",
       "snowfall_amount_sfc                                0.093060   \n",
       "total_cloud_cover_sfc                              0.212142   \n",
       "high_cloud_cover_high_cld_lay                      0.092842   \n",
       "medium_cloud_cover_mid_cld_lay                     0.079627   \n",
       "low_cloud_cover_low_cld_lay                        0.193846   \n",
       "shortwave_radiation_backwards_sfc                  0.017212   \n",
       "wind_speed_10_m_above_gnd                          0.898893   \n",
       "wind_direction_10_m_above_gnd                      0.059981   \n",
       "wind_speed_80_m_above_gnd                          0.898347   \n",
       "wind_direction_80_m_above_gnd                      0.065285   \n",
       "wind_speed_900_mb                                  0.894006   \n",
       "wind_direction_900_mb                              0.071530   \n",
       "wind_gust_10_m_above_gnd                           1.000000   \n",
       "angle_of_incidence                                -0.122335   \n",
       "zenith                                            -0.006612   \n",
       "azimuth                                            0.152166   \n",
       "generated_power_kw                                -0.122808   \n",
       "\n",
       "                                   angle_of_incidence    zenith   azimuth  \\\n",
       "temperature_2_m_above_gnd                   -0.090173 -0.545646  0.381797   \n",
       "relative_humidity_2_m_above_gnd              0.268460  0.513748 -0.525760   \n",
       "mean_sea_level_pressure_MSL                 -0.075619  0.268111 -0.137872   \n",
       "total_precipitation_sfc                     -0.020965 -0.023408  0.005749   \n",
       "snowfall_amount_sfc                         -0.012497  0.033554  0.008426   \n",
       "total_cloud_cover_sfc                       -0.003426  0.136249 -0.037427   \n",
       "high_cloud_cover_high_cld_lay               -0.033840  0.031766  0.020790   \n",
       "medium_cloud_cover_mid_cld_lay              -0.035511  0.046719  0.014802   \n",
       "low_cloud_cover_low_cld_lay                  0.013421  0.120854 -0.054328   \n",
       "shortwave_radiation_backwards_sfc           -0.576921 -0.801892  0.549296   \n",
       "wind_speed_10_m_above_gnd                   -0.173060 -0.041168  0.194680   \n",
       "wind_direction_10_m_above_gnd                0.054676  0.044775  0.009908   \n",
       "wind_speed_80_m_above_gnd                   -0.049618  0.091319  0.064278   \n",
       "wind_direction_80_m_above_gnd                0.051170  0.029259  0.017849   \n",
       "wind_speed_900_mb                           -0.136442  0.004675  0.155932   \n",
       "wind_direction_900_mb                        0.056517  0.048158 -0.000427   \n",
       "wind_gust_10_m_above_gnd                    -0.122335 -0.006612  0.152166   \n",
       "angle_of_incidence                           1.000000  0.712773 -0.288647   \n",
       "zenith                                       0.712773  1.000000 -0.247447   \n",
       "azimuth                                     -0.288647 -0.247447  1.000000   \n",
       "generated_power_kw                          -0.646537 -0.649991 -0.061184   \n",
       "\n",
       "                                   generated_power_kw  \n",
       "temperature_2_m_above_gnd                    0.217280  \n",
       "relative_humidity_2_m_above_gnd             -0.336783  \n",
       "mean_sea_level_pressure_MSL                  0.150551  \n",
       "total_precipitation_sfc                     -0.118442  \n",
       "snowfall_amount_sfc                         -0.049508  \n",
       "total_cloud_cover_sfc                       -0.334338  \n",
       "high_cloud_cover_high_cld_lay               -0.147723  \n",
       "medium_cloud_cover_mid_cld_lay              -0.227834  \n",
       "low_cloud_cover_low_cld_lay                 -0.288066  \n",
       "shortwave_radiation_backwards_sfc            0.556148  \n",
       "wind_speed_10_m_above_gnd                   -0.083043  \n",
       "wind_direction_10_m_above_gnd               -0.073257  \n",
       "wind_speed_80_m_above_gnd                   -0.157899  \n",
       "wind_direction_80_m_above_gnd               -0.069941  \n",
       "wind_speed_900_mb                           -0.107615  \n",
       "wind_direction_900_mb                       -0.077435  \n",
       "wind_gust_10_m_above_gnd                    -0.122808  \n",
       "angle_of_incidence                          -0.646537  \n",
       "zenith                                      -0.649991  \n",
       "azimuth                                     -0.061184  \n",
       "generated_power_kw                           1.000000  \n",
       "\n",
       "[21 rows x 21 columns]"
      ]
     },
     "execution_count": 387,
     "metadata": {},
     "output_type": "execute_result"
    }
   ],
   "source": [
    "df.corr()"
   ]
  },
  {
   "cell_type": "code",
   "execution_count": 388,
   "id": "1af0e9f8-9a02-495b-bb99-2530ef8f6c97",
   "metadata": {},
   "outputs": [
    {
     "name": "stderr",
     "output_type": "stream",
     "text": [
      "C:\\Users\\rajpu\\AppData\\Local\\Temp\\ipykernel_28888\\1333630887.py:1: UserWarning: \n",
      "\n",
      "`distplot` is a deprecated function and will be removed in seaborn v0.14.0.\n",
      "\n",
      "Please adapt your code to use either `displot` (a figure-level function with\n",
      "similar flexibility) or `histplot` (an axes-level function for histograms).\n",
      "\n",
      "For a guide to updating your code to use the new functions, please see\n",
      "https://gist.github.com/mwaskom/de44147ed2974457ad6372750bbe5751\n",
      "\n",
      "  sns.distplot(df['temperature_2_m_above_gnd'])\n"
     ]
    },
    {
     "data": {
      "text/plain": [
       "<Axes: xlabel='temperature_2_m_above_gnd', ylabel='Density'>"
      ]
     },
     "execution_count": 388,
     "metadata": {},
     "output_type": "execute_result"
    },
    {
     "data": {
      "image/png": "[encoded data removed]",
      "text/plain": [
       "<Figure size 640x480 with 1 Axes>"
      ]
     },
     "metadata": {},
     "output_type": "display_data"
    }
   ],
   "source": [
    "sns.distplot(df['temperature_2_m_above_gnd'])"
   ]
  },
  {
   "cell_type": "code",
   "execution_count": 389,
   "id": "45a94653-793a-4773-a881-eda20fb33d17",
   "metadata": {},
   "outputs": [
    {
     "data": {
      "text/plain": [
       "<Axes: ylabel='temperature_2_m_above_gnd'>"
      ]
     },
     "execution_count": 389,
     "metadata": {},
     "output_type": "execute_result"
    },
    {
     "data": {
      "image/png": "[encoded data removed]",
      "text/plain": [
       "<Figure size 640x480 with 1 Axes>"
      ]
     },
     "metadata": {},
     "output_type": "display_data"
    }
   ],
   "source": [
    "sns.boxplot(df['temperature_2_m_above_gnd'])"
   ]
  },
  {
   "cell_type": "code",
   "execution_count": 390,
   "id": "528b6622-2090-4818-b6c5-5b8a582558a7",
   "metadata": {},
   "outputs": [
    {
     "data": {
      "text/plain": [
       "0.14598647124914144"
      ]
     },
     "execution_count": 390,
     "metadata": {},
     "output_type": "execute_result"
    }
   ],
   "source": [
    "df['temperature_2_m_above_gnd'].skew()"
   ]
  },
  {
   "cell_type": "code",
   "execution_count": 391,
   "id": "8b56aaf5-ba7e-4be4-80a4-ddf0daeb45cd",
   "metadata": {},
   "outputs": [
    {
     "data": {
      "text/plain": [
       "Index(['temperature_2_m_above_gnd', 'relative_humidity_2_m_above_gnd',\n",
       "       'mean_sea_level_pressure_MSL', 'total_precipitation_sfc',\n",
       "       'snowfall_amount_sfc', 'total_cloud_cover_sfc',\n",
       "       'high_cloud_cover_high_cld_lay', 'medium_cloud_cover_mid_cld_lay',\n",
       "       'low_cloud_cover_low_cld_lay', 'shortwave_radiation_backwards_sfc',\n",
       "       'wind_speed_10_m_above_gnd', 'wind_direction_10_m_above_gnd',\n",
       "       'wind_speed_80_m_above_gnd', 'wind_direction_80_m_above_gnd',\n",
       "       'wind_speed_900_mb', 'wind_direction_900_mb',\n",
       "       'wind_gust_10_m_above_gnd', 'angle_of_incidence', 'zenith', 'azimuth',\n",
       "       'generated_power_kw'],\n",
       "      dtype='object')"
      ]
     },
     "execution_count": 391,
     "metadata": {},
     "output_type": "execute_result"
    }
   ],
   "source": [
    "df.columns"
   ]
  },
  {
   "cell_type": "code",
   "execution_count": 392,
   "id": "f0a0c413-a3a3-4616-a028-b7c8711d2d3c",
   "metadata": {},
   "outputs": [
    {
     "data": {
      "text/plain": [
       "<Axes: ylabel='relative_humidity_2_m_above_gnd'>"
      ]
     },
     "execution_count": 392,
     "metadata": {},
     "output_type": "execute_result"
    },
    {
     "data": {
      "image/png": "[encoded data removed]",
      "text/plain": [
       "<Figure size 640x480 with 1 Axes>"
      ]
     },
     "metadata": {},
     "output_type": "display_data"
    }
   ],
   "source": [
    "sns.boxplot(df['relative_humidity_2_m_above_gnd'])"
   ]
  },
  {
   "cell_type": "code",
   "execution_count": 393,
   "id": "bba8b855-b488-4c50-97a5-9acf9be23dc1",
   "metadata": {},
   "outputs": [
    {
     "name": "stderr",
     "output_type": "stream",
     "text": [
      "C:\\Users\\rajpu\\AppData\\Local\\Temp\\ipykernel_28888\\2219698900.py:1: UserWarning: \n",
      "\n",
      "`distplot` is a deprecated function and will be removed in seaborn v0.14.0.\n",
      "\n",
      "Please adapt your code to use either `displot` (a figure-level function with\n",
      "similar flexibility) or `histplot` (an axes-level function for histograms).\n",
      "\n",
      "For a guide to updating your code to use the new functions, please see\n",
      "https://gist.github.com/mwaskom/de44147ed2974457ad6372750bbe5751\n",
      "\n",
      "  sns.distplot(df['relative_humidity_2_m_above_gnd'])\n"
     ]
    },
    {
     "data": {
      "text/plain": [
       "<Axes: xlabel='relative_humidity_2_m_above_gnd', ylabel='Density'>"
      ]
     },
     "execution_count": 393,
     "metadata": {},
     "output_type": "execute_result"
    },
    {
     "data": {
      "image/png": "[encoded data removed]",
      "text/plain": [
       "<Figure size 640x480 with 1 Axes>"
      ]
     },
     "metadata": {},
     "output_type": "display_data"
    }
   ],
   "source": [
    "sns.distplot(df['relative_humidity_2_m_above_gnd'])"
   ]
  },
  {
   "cell_type": "code",
   "execution_count": 394,
   "id": "b63b49cc-0bbc-439b-b81a-1d61f811f188",
   "metadata": {},
   "outputs": [
    {
     "name": "stderr",
     "output_type": "stream",
     "text": [
      "C:\\Users\\rajpu\\AppData\\Local\\Temp\\ipykernel_28888\\861219550.py:1: UserWarning: \n",
      "\n",
      "`distplot` is a deprecated function and will be removed in seaborn v0.14.0.\n",
      "\n",
      "Please adapt your code to use either `displot` (a figure-level function with\n",
      "similar flexibility) or `histplot` (an axes-level function for histograms).\n",
      "\n",
      "For a guide to updating your code to use the new functions, please see\n",
      "https://gist.github.com/mwaskom/de44147ed2974457ad6372750bbe5751\n",
      "\n",
      "  sns.distplot(df['mean_sea_level_pressure_MSL'])\n"
     ]
    },
    {
     "data": {
      "text/plain": [
       "<Axes: xlabel='mean_sea_level_pressure_MSL', ylabel='Density'>"
      ]
     },
     "execution_count": 394,
     "metadata": {},
     "output_type": "execute_result"
    },
    {
     "data": {
      "image/png": "[encoded data removed]",
      "text/plain": [
       "<Figure size 640x480 with 1 Axes>"
      ]
     },
     "metadata": {},
     "output_type": "display_data"
    }
   ],
   "source": [
    "sns.distplot(df['mean_sea_level_pressure_MSL'])"
   ]
  },
  {
   "cell_type": "code",
   "execution_count": 395,
   "id": "426f0ba5-cbac-4306-ad8e-f962a8c775c8",
   "metadata": {},
   "outputs": [
    {
     "data": {
      "text/plain": [
       "<Axes: ylabel='mean_sea_level_pressure_MSL'>"
      ]
     },
     "execution_count": 395,
     "metadata": {},
     "output_type": "execute_result"
    },
    {
     "data": {
      "image/png": "[encoded data removed]",
      "text/plain": [
       "<Figure size 640x480 with 1 Axes>"
      ]
     },
     "metadata": {},
     "output_type": "display_data"
    }
   ],
   "source": [
    "sns.boxplot(df['mean_sea_level_pressure_MSL'])"
   ]
  },
  {
   "cell_type": "code",
   "execution_count": 396,
   "id": "6f4d9a3c-6014-475e-8d69-ff436a3a3869",
   "metadata": {},
   "outputs": [
    {
     "data": {
      "text/plain": [
       "mean_sea_level_pressure_MSL\n",
       "1016.9    40\n",
       "1018.1    40\n",
       "1014.1    39\n",
       "1017.0    37\n",
       "1017.3    37\n",
       "          ..\n",
       "1002.8     1\n",
       "1036.9     1\n",
       "1040.0     1\n",
       "1041.2     1\n",
       "1034.7     1\n",
       "Name: count, Length: 376, dtype: int64"
      ]
     },
     "execution_count": 396,
     "metadata": {},
     "output_type": "execute_result"
    }
   ],
   "source": [
    "df['mean_sea_level_pressure_MSL'].value_counts()"
   ]
  },
  {
   "cell_type": "code",
   "execution_count": 397,
   "id": "e7990f1a-98e3-46ec-bdea-6bec7929eeca",
   "metadata": {},
   "outputs": [
    {
     "data": {
      "text/plain": [
       "<Axes: ylabel='total_precipitation_sfc'>"
      ]
     },
     "execution_count": 397,
     "metadata": {},
     "output_type": "execute_result"
    },
    {
     "data": {
      "image/png": "[encoded data removed]",
      "text/plain": [
       "<Figure size 640x480 with 1 Axes>"
      ]
     },
     "metadata": {},
     "output_type": "display_data"
    }
   ],
   "source": [
    "\n",
    "sns.boxplot(df['total_precipitation_sfc'])"
   ]
  },
  {
   "cell_type": "code",
   "execution_count": 398,
   "id": "5cc5bc64-8f18-431a-b139-a02afbff2ca4",
   "metadata": {},
   "outputs": [
    {
     "data": {
      "text/plain": [
       "total_precipitation_sfc\n",
       "0.0    3906\n",
       "0.1      83\n",
       "0.2      56\n",
       "0.3      52\n",
       "0.4      30\n",
       "0.5      20\n",
       "0.7      12\n",
       "0.6      10\n",
       "1.1       6\n",
       "0.8       6\n",
       "1.3       4\n",
       "1.2       4\n",
       "1.5       4\n",
       "1.4       4\n",
       "2.2       3\n",
       "1.7       2\n",
       "2.0       2\n",
       "1.9       2\n",
       "1.6       2\n",
       "0.9       2\n",
       "3.2       1\n",
       "1.0       1\n",
       "2.3       1\n",
       "Name: count, dtype: int64"
      ]
     },
     "execution_count": 398,
     "metadata": {},
     "output_type": "execute_result"
    }
   ],
   "source": [
    "df['total_precipitation_sfc'].value_counts()"
   ]
  },
  {
   "cell_type": "code",
   "execution_count": 399,
   "id": "1e8c76d5-8acc-4546-992e-b107d6ab6d4a",
   "metadata": {},
   "outputs": [
    {
     "data": {
      "text/plain": [
       "0.29687054323764467"
      ]
     },
     "execution_count": 399,
     "metadata": {},
     "output_type": "execute_result"
    }
   ],
   "source": [
    "df['relative_humidity_2_m_above_gnd'].skew()"
   ]
  },
  {
   "cell_type": "code",
   "execution_count": 400,
   "id": "16990644-2216-4498-b4b8-c54e665d3bcf",
   "metadata": {},
   "outputs": [
    {
     "data": {
      "text/plain": [
       "Index(['temperature_2_m_above_gnd', 'relative_humidity_2_m_above_gnd',\n",
       "       'mean_sea_level_pressure_MSL', 'total_precipitation_sfc',\n",
       "       'snowfall_amount_sfc', 'total_cloud_cover_sfc',\n",
       "       'high_cloud_cover_high_cld_lay', 'medium_cloud_cover_mid_cld_lay',\n",
       "       'low_cloud_cover_low_cld_lay', 'shortwave_radiation_backwards_sfc',\n",
       "       'wind_speed_10_m_above_gnd', 'wind_direction_10_m_above_gnd',\n",
       "       'wind_speed_80_m_above_gnd', 'wind_direction_80_m_above_gnd',\n",
       "       'wind_speed_900_mb', 'wind_direction_900_mb',\n",
       "       'wind_gust_10_m_above_gnd', 'angle_of_incidence', 'zenith', 'azimuth',\n",
       "       'generated_power_kw'],\n",
       "      dtype='object')"
      ]
     },
     "execution_count": 400,
     "metadata": {},
     "output_type": "execute_result"
    }
   ],
   "source": [
    "df.columns"
   ]
  },
  {
   "cell_type": "code",
   "execution_count": 401,
   "id": "32aaa20f-c882-422b-84e6-5e8781709be9",
   "metadata": {},
   "outputs": [
    {
     "data": {
      "text/plain": [
       "<Axes: ylabel='snowfall_amount_sfc'>"
      ]
     },
     "execution_count": 401,
     "metadata": {},
     "output_type": "execute_result"
    },
    {
     "data": {
      "image/png": "[encoded data removed]",
      "text/plain": [
       "<Figure size 640x480 with 1 Axes>"
      ]
     },
     "metadata": {},
     "output_type": "display_data"
    }
   ],
   "source": [
    "sns.boxplot(df['snowfall_amount_sfc'])\n"
   ]
  },
  {
   "cell_type": "code",
   "execution_count": 402,
   "id": "2ef38e70-3d0d-4542-bed6-145fdaf94d93",
   "metadata": {},
   "outputs": [
    {
     "data": {
      "text/plain": [
       "snowfall_amount_sfc\n",
       "0.00    4166\n",
       "0.14      12\n",
       "0.07      11\n",
       "0.21       8\n",
       "0.28       6\n",
       "0.42       2\n",
       "0.35       2\n",
       "0.63       2\n",
       "0.49       2\n",
       "1.68       1\n",
       "0.56       1\n",
       "Name: count, dtype: int64"
      ]
     },
     "execution_count": 402,
     "metadata": {},
     "output_type": "execute_result"
    }
   ],
   "source": [
    "df['snowfall_amount_sfc'].value_counts()"
   ]
  },
  {
   "cell_type": "code",
   "execution_count": 403,
   "id": "0e90b671-bafa-46d5-87dd-d37949297e99",
   "metadata": {},
   "outputs": [
    {
     "data": {
      "text/plain": [
       "total_cloud_cover_sfc\n",
       "0.0      1668\n",
       "100.0    1076\n",
       "10.0      306\n",
       "30.0       64\n",
       "2.0        32\n",
       "         ... \n",
       "16.8        1\n",
       "17.4        1\n",
       "13.2        1\n",
       "28.8        1\n",
       "29.4        1\n",
       "Name: count, Length: 160, dtype: int64"
      ]
     },
     "execution_count": 403,
     "metadata": {},
     "output_type": "execute_result"
    }
   ],
   "source": [
    "\n",
    "df['total_cloud_cover_sfc'].value_counts()\n"
   ]
  },
  {
   "cell_type": "code",
   "execution_count": 404,
   "id": "3a0f2809-b020-4293-87bb-374133fa693e",
   "metadata": {},
   "outputs": [
    {
     "data": {
      "text/plain": [
       "high_cloud_cover_high_cld_lay\n",
       "0      2910\n",
       "100     380\n",
       "1        47\n",
       "2        45\n",
       "3        32\n",
       "       ... \n",
       "63        1\n",
       "88        1\n",
       "83        1\n",
       "64        1\n",
       "75        1\n",
       "Name: count, Length: 97, dtype: int64"
      ]
     },
     "execution_count": 404,
     "metadata": {},
     "output_type": "execute_result"
    }
   ],
   "source": [
    "\n",
    "df['high_cloud_cover_high_cld_lay'].value_counts()\n"
   ]
  },
  {
   "cell_type": "code",
   "execution_count": 405,
   "id": "803dffef-d326-4a55-9e73-807f629b91d0",
   "metadata": {},
   "outputs": [
    {
     "data": {
      "text/plain": [
       "medium_cloud_cover_mid_cld_lay\n",
       "0      2807\n",
       "100     587\n",
       "10      270\n",
       "2        21\n",
       "4        13\n",
       "       ... \n",
       "91        2\n",
       "83        2\n",
       "84        1\n",
       "95        1\n",
       "54        1\n",
       "Name: count, Length: 98, dtype: int64"
      ]
     },
     "execution_count": 405,
     "metadata": {},
     "output_type": "execute_result"
    }
   ],
   "source": [
    "\n",
    "df['medium_cloud_cover_mid_cld_lay'].value_counts()\n"
   ]
  },
  {
   "cell_type": "code",
   "execution_count": 406,
   "id": "72989c2f-3839-4520-84e1-0723dd179bf8",
   "metadata": {},
   "outputs": [
    {
     "data": {
      "text/plain": [
       "low_cloud_cover_low_cld_lay\n",
       "0      2681\n",
       "100     690\n",
       "10      291\n",
       "2        45\n",
       "1        30\n",
       "       ... \n",
       "71        1\n",
       "94        1\n",
       "86        1\n",
       "84        1\n",
       "99        1\n",
       "Name: count, Length: 99, dtype: int64"
      ]
     },
     "execution_count": 406,
     "metadata": {},
     "output_type": "execute_result"
    }
   ],
   "source": [
    "\n",
    "df['low_cloud_cover_low_cld_lay'].value_counts()\n"
   ]
  },
  {
   "cell_type": "code",
   "execution_count": 407,
   "id": "a8459ca9-f96a-4a88-b37b-d9c52c1db761",
   "metadata": {},
   "outputs": [
    {
     "data": {
      "text/plain": [
       "<Axes: ylabel='shortwave_radiation_backwards_sfc'>"
      ]
     },
     "execution_count": 407,
     "metadata": {},
     "output_type": "execute_result"
    },
    {
     "data": {
      "image/png": "[encoded data removed]",
      "text/plain": [
       "<Figure size 640x480 with 1 Axes>"
      ]
     },
     "metadata": {},
     "output_type": "display_data"
    }
   ],
   "source": [
    "\n",
    "sns.boxplot(df['shortwave_radiation_backwards_sfc'])"
   ]
  },
  {
   "cell_type": "code",
   "execution_count": 408,
   "id": "e22ed12e-1225-4935-8608-03708a8a2128",
   "metadata": {},
   "outputs": [
    {
     "data": {
      "text/plain": [
       "<Axes: ylabel='wind_speed_10_m_above_gnd'>"
      ]
     },
     "execution_count": 408,
     "metadata": {},
     "output_type": "execute_result"
    },
    {
     "data": {
      "image/png": "[encoded data removed]",
      "text/plain": [
       "<Figure size 640x480 with 1 Axes>"
      ]
     },
     "metadata": {},
     "output_type": "display_data"
    }
   ],
   "source": [
    "\n",
    "sns.boxplot(df['wind_speed_10_m_above_gnd'])"
   ]
  },
  {
   "cell_type": "code",
   "execution_count": 409,
   "id": "2085983d-7ede-470b-993e-a0c579bb174c",
   "metadata": {},
   "outputs": [
    {
     "data": {
      "text/plain": [
       "<Axes: ylabel='wind_direction_10_m_above_gnd'>"
      ]
     },
     "execution_count": 409,
     "metadata": {},
     "output_type": "execute_result"
    },
    {
     "data": {
      "image/png": "[encoded data removed]",
      "text/plain": [
       "<Figure size 640x480 with 1 Axes>"
      ]
     },
     "metadata": {},
     "output_type": "display_data"
    }
   ],
   "source": [
    "\n",
    "sns.boxplot(df['wind_direction_10_m_above_gnd'])"
   ]
  },
  {
   "cell_type": "code",
   "execution_count": 410,
   "id": "cb3e8266-ee4c-4193-a158-e935c721d30a",
   "metadata": {},
   "outputs": [
    {
     "data": {
      "text/plain": [
       "<Axes: ylabel='wind_speed_80_m_above_gnd'>"
      ]
     },
     "execution_count": 410,
     "metadata": {},
     "output_type": "execute_result"
    },
    {
     "data": {
      "image/png": "[encoded data removed]",
      "text/plain": [
       "<Figure size 640x480 with 1 Axes>"
      ]
     },
     "metadata": {},
     "output_type": "display_data"
    }
   ],
   "source": [
    "\n",
    "sns.boxplot(df['wind_speed_80_m_above_gnd'])"
   ]
  },
  {
   "cell_type": "code",
   "execution_count": 411,
   "id": "0a53b9e3-9d57-4f31-9f40-f408898bfe77",
   "metadata": {},
   "outputs": [
    {
     "data": {
      "text/plain": [
       "<Axes: ylabel='wind_direction_80_m_above_gnd'>"
      ]
     },
     "execution_count": 411,
     "metadata": {},
     "output_type": "execute_result"
    },
    {
     "data": {
      "image/png": "[encoded data removed]",
      "text/plain": [
       "<Figure size 640x480 with 1 Axes>"
      ]
     },
     "metadata": {},
     "output_type": "display_data"
    }
   ],
   "source": [
    "\n",
    "sns.boxplot(df['wind_direction_80_m_above_gnd'])"
   ]
  },
  {
   "cell_type": "code",
   "execution_count": 412,
   "id": "7ce0ed27-795c-49c4-b1e7-0f63aa259476",
   "metadata": {},
   "outputs": [
    {
     "data": {
      "text/plain": [
       "<Axes: ylabel='wind_speed_900_mb'>"
      ]
     },
     "execution_count": 412,
     "metadata": {},
     "output_type": "execute_result"
    },
    {
     "data": {
      "image/png": "[encoded data removed]",
      "text/plain": [
       "<Figure size 640x480 with 1 Axes>"
      ]
     },
     "metadata": {},
     "output_type": "display_data"
    }
   ],
   "source": [
    "\n",
    "sns.boxplot(df['wind_speed_900_mb'])"
   ]
  },
  {
   "cell_type": "code",
   "execution_count": 413,
   "id": "cab51982-d124-4da3-a77f-9e4df855714f",
   "metadata": {},
   "outputs": [
    {
     "data": {
      "text/plain": [
       "<Axes: ylabel='wind_direction_900_mb'>"
      ]
     },
     "execution_count": 413,
     "metadata": {},
     "output_type": "execute_result"
    },
    {
     "data": {
      "image/png": "[encoded data removed]",
      "text/plain": [
       "<Figure size 640x480 with 1 Axes>"
      ]
     },
     "metadata": {},
     "output_type": "display_data"
    }
   ],
   "source": [
    "\n",
    "sns.boxplot(df['wind_direction_900_mb'])"
   ]
  },
  {
   "cell_type": "code",
   "execution_count": 414,
   "id": "302dcf9b-a0ba-4c7a-9635-cd48792235cc",
   "metadata": {},
   "outputs": [
    {
     "data": {
      "text/plain": [
       "<Axes: ylabel='wind_gust_10_m_above_gnd'>"
      ]
     },
     "execution_count": 414,
     "metadata": {},
     "output_type": "execute_result"
    },
    {
     "data": {
      "image/png": "[encoded data removed]",
      "text/plain": [
       "<Figure size 640x480 with 1 Axes>"
      ]
     },
     "metadata": {},
     "output_type": "display_data"
    }
   ],
   "source": [
    "\n",
    "sns.boxplot(df['wind_gust_10_m_above_gnd'])"
   ]
  },
  {
   "cell_type": "code",
   "execution_count": 415,
   "id": "e8bbaee9-81a7-4831-8df9-8228a1517f6f",
   "metadata": {},
   "outputs": [
    {
     "data": {
      "text/plain": [
       "<Axes: ylabel='angle_of_incidence'>"
      ]
     },
     "execution_count": 415,
     "metadata": {},
     "output_type": "execute_result"
    },
    {
     "data": {
      "image/png": "[encoded data removed]",
      "text/plain": [
       "<Figure size 640x480 with 1 Axes>"
      ]
     },
     "metadata": {},
     "output_type": "display_data"
    }
   ],
   "source": [
    "\n",
    "sns.boxplot(df['angle_of_incidence'])"
   ]
  },
  {
   "cell_type": "code",
   "execution_count": 416,
   "id": "59236501-bff7-4ca6-a91f-782fdea1b00f",
   "metadata": {},
   "outputs": [
    {
     "data": {
      "text/plain": [
       "<Axes: ylabel='zenith'>"
      ]
     },
     "execution_count": 416,
     "metadata": {},
     "output_type": "execute_result"
    },
    {
     "data": {
      "image/png": "[encoded data removed]",
      "text/plain": [
       "<Figure size 640x480 with 1 Axes>"
      ]
     },
     "metadata": {},
     "output_type": "display_data"
    }
   ],
   "source": [
    "\n",
    "sns.boxplot(df['zenith'])"
   ]
  },
  {
   "cell_type": "code",
   "execution_count": 417,
   "id": "15625191-cbe3-4c02-9e97-3c5a215b2ee1",
   "metadata": {},
   "outputs": [
    {
     "data": {
      "text/plain": [
       "<Axes: ylabel='azimuth'>"
      ]
     },
     "execution_count": 417,
     "metadata": {},
     "output_type": "execute_result"
    },
    {
     "data": {
      "image/png": "[encoded data removed]",
      "text/plain": [
       "<Figure size 640x480 with 1 Axes>"
      ]
     },
     "metadata": {},
     "output_type": "display_data"
    }
   ],
   "source": [
    "\n",
    "sns.boxplot(df['azimuth'])"
   ]
  },
  {
   "cell_type": "code",
   "execution_count": 418,
   "id": "389d7cfd-6d9b-4c1c-a506-d8d2d76ce513",
   "metadata": {},
   "outputs": [
    {
     "name": "stderr",
     "output_type": "stream",
     "text": [
      "C:\\Users\\rajpu\\AppData\\Local\\Temp\\ipykernel_28888\\1926763430.py:9: UserWarning: \n",
      "\n",
      "`distplot` is a deprecated function and will be removed in seaborn v0.14.0.\n",
      "\n",
      "Please adapt your code to use either `displot` (a figure-level function with\n",
      "similar flexibility) or `histplot` (an axes-level function for histograms).\n",
      "\n",
      "For a guide to updating your code to use the new functions, please see\n",
      "https://gist.github.com/mwaskom/de44147ed2974457ad6372750bbe5751\n",
      "\n",
      "  sns.distplot(X['merged_wind_speed'])\n"
     ]
    },
    {
     "data": {
      "text/plain": [
       "<Axes: xlabel='merged_wind_speed', ylabel='Density'>"
      ]
     },
     "execution_count": 418,
     "metadata": {},
     "output_type": "execute_result"
    },
    {
     "data": {
      "image/png": "[encoded data removed]",
      "text/plain": [
       "<Figure size 640x480 with 1 Axes>"
      ]
     },
     "metadata": {},
     "output_type": "display_data"
    }
   ],
   "source": []
  },
  {
   "cell_type": "code",
   "execution_count": 419,
   "id": "f4868006-52d3-4319-928d-71976ec72e1c",
   "metadata": {},
   "outputs": [
    {
     "data": {
      "text/html": [
       "<div>\n",
       "<style scoped>\n",
       "    .dataframe tbody tr th:only-of-type {\n",
       "        vertical-align: middle;\n",
       "    }\n",
       "\n",
       "    .dataframe tbody tr th {\n",
       "        vertical-align: top;\n",
       "    }\n",
       "\n",
       "    .dataframe thead th {\n",
       "        text-align: right;\n",
       "    }\n",
       "</style>\n",
       "<table border=\"1\" class=\"dataframe\">\n",
       "  <thead>\n",
       "    <tr style=\"text-align: right;\">\n",
       "      <th></th>\n",
       "      <th>temperature_2_m_above_gnd</th>\n",
       "      <th>relative_humidity_2_m_above_gnd</th>\n",
       "      <th>mean_sea_level_pressure_MSL</th>\n",
       "      <th>shortwave_radiation_backwards_sfc</th>\n",
       "      <th>wind_direction_10_m_above_gnd</th>\n",
       "      <th>wind_direction_80_m_above_gnd</th>\n",
       "      <th>wind_direction_900_mb</th>\n",
       "      <th>wind_gust_10_m_above_gnd</th>\n",
       "      <th>angle_of_incidence</th>\n",
       "      <th>zenith</th>\n",
       "      <th>azimuth</th>\n",
       "      <th>merged_wind_speed</th>\n",
       "    </tr>\n",
       "  </thead>\n",
       "  <tbody>\n",
       "    <tr>\n",
       "      <th>0</th>\n",
       "      <td>2.17</td>\n",
       "      <td>31</td>\n",
       "      <td>1035.0</td>\n",
       "      <td>0.00</td>\n",
       "      <td>312.71</td>\n",
       "      <td>22.62</td>\n",
       "      <td>337.62</td>\n",
       "      <td>24.48</td>\n",
       "      <td>58.753108</td>\n",
       "      <td>83.237322</td>\n",
       "      <td>128.33543</td>\n",
       "      <td>7.450000</td>\n",
       "    </tr>\n",
       "    <tr>\n",
       "      <th>1</th>\n",
       "      <td>2.31</td>\n",
       "      <td>27</td>\n",
       "      <td>1035.1</td>\n",
       "      <td>1.78</td>\n",
       "      <td>294.78</td>\n",
       "      <td>32.74</td>\n",
       "      <td>321.34</td>\n",
       "      <td>21.96</td>\n",
       "      <td>45.408585</td>\n",
       "      <td>75.143041</td>\n",
       "      <td>139.65530</td>\n",
       "      <td>5.250000</td>\n",
       "    </tr>\n",
       "    <tr>\n",
       "      <th>2</th>\n",
       "      <td>3.65</td>\n",
       "      <td>33</td>\n",
       "      <td>1035.4</td>\n",
       "      <td>108.58</td>\n",
       "      <td>270.00</td>\n",
       "      <td>56.31</td>\n",
       "      <td>286.70</td>\n",
       "      <td>14.04</td>\n",
       "      <td>32.848282</td>\n",
       "      <td>68.820648</td>\n",
       "      <td>152.53769</td>\n",
       "      <td>4.110000</td>\n",
       "    </tr>\n",
       "    <tr>\n",
       "      <th>3</th>\n",
       "      <td>5.82</td>\n",
       "      <td>30</td>\n",
       "      <td>1035.4</td>\n",
       "      <td>258.10</td>\n",
       "      <td>323.13</td>\n",
       "      <td>23.96</td>\n",
       "      <td>339.44</td>\n",
       "      <td>19.80</td>\n",
       "      <td>22.699288</td>\n",
       "      <td>64.883536</td>\n",
       "      <td>166.90159</td>\n",
       "      <td>3.410000</td>\n",
       "    </tr>\n",
       "    <tr>\n",
       "      <th>4</th>\n",
       "      <td>7.73</td>\n",
       "      <td>27</td>\n",
       "      <td>1034.4</td>\n",
       "      <td>375.58</td>\n",
       "      <td>10.01</td>\n",
       "      <td>25.20</td>\n",
       "      <td>22.38</td>\n",
       "      <td>16.56</td>\n",
       "      <td>19.199908</td>\n",
       "      <td>63.795208</td>\n",
       "      <td>182.13526</td>\n",
       "      <td>6.530000</td>\n",
       "    </tr>\n",
       "    <tr>\n",
       "      <th>...</th>\n",
       "      <td>...</td>\n",
       "      <td>...</td>\n",
       "      <td>...</td>\n",
       "      <td>...</td>\n",
       "      <td>...</td>\n",
       "      <td>...</td>\n",
       "      <td>...</td>\n",
       "      <td>...</td>\n",
       "      <td>...</td>\n",
       "      <td>...</td>\n",
       "      <td>...</td>\n",
       "      <td>...</td>\n",
       "    </tr>\n",
       "    <tr>\n",
       "      <th>4208</th>\n",
       "      <td>8.69</td>\n",
       "      <td>66</td>\n",
       "      <td>1025.1</td>\n",
       "      <td>257.21</td>\n",
       "      <td>285.42</td>\n",
       "      <td>283.06</td>\n",
       "      <td>282.99</td>\n",
       "      <td>25.20</td>\n",
       "      <td>22.700907</td>\n",
       "      <td>64.952098</td>\n",
       "      <td>167.06794</td>\n",
       "      <td>23.723333</td>\n",
       "    </tr>\n",
       "    <tr>\n",
       "      <th>4209</th>\n",
       "      <td>7.57</td>\n",
       "      <td>90</td>\n",
       "      <td>1026.1</td>\n",
       "      <td>210.04</td>\n",
       "      <td>6.91</td>\n",
       "      <td>4.76</td>\n",
       "      <td>7.13</td>\n",
       "      <td>10.44</td>\n",
       "      <td>19.307487</td>\n",
       "      <td>63.895118</td>\n",
       "      <td>182.28247</td>\n",
       "      <td>12.193333</td>\n",
       "    </tr>\n",
       "    <tr>\n",
       "      <th>4210</th>\n",
       "      <td>7.27</td>\n",
       "      <td>90</td>\n",
       "      <td>1026.3</td>\n",
       "      <td>113.92</td>\n",
       "      <td>2.29</td>\n",
       "      <td>352.87</td>\n",
       "      <td>354.81</td>\n",
       "      <td>22.32</td>\n",
       "      <td>25.249506</td>\n",
       "      <td>65.827032</td>\n",
       "      <td>197.33868</td>\n",
       "      <td>8.556667</td>\n",
       "    </tr>\n",
       "    <tr>\n",
       "      <th>4211</th>\n",
       "      <td>8.25</td>\n",
       "      <td>81</td>\n",
       "      <td>1025.5</td>\n",
       "      <td>186.90</td>\n",
       "      <td>11.31</td>\n",
       "      <td>13.24</td>\n",
       "      <td>14.04</td>\n",
       "      <td>15.48</td>\n",
       "      <td>36.361161</td>\n",
       "      <td>70.496313</td>\n",
       "      <td>211.30027</td>\n",
       "      <td>6.523333</td>\n",
       "    </tr>\n",
       "    <tr>\n",
       "      <th>4212</th>\n",
       "      <td>8.00</td>\n",
       "      <td>80</td>\n",
       "      <td>1025.3</td>\n",
       "      <td>172.66</td>\n",
       "      <td>12.72</td>\n",
       "      <td>17.35</td>\n",
       "      <td>18.43</td>\n",
       "      <td>16.20</td>\n",
       "      <td>48.452849</td>\n",
       "      <td>76.919574</td>\n",
       "      <td>223.04931</td>\n",
       "      <td>11.630000</td>\n",
       "    </tr>\n",
       "  </tbody>\n",
       "</table>\n",
       "<p>4213 rows × 12 columns</p>\n",
       "</div>"
      ],
      "text/plain": [
       "      temperature_2_m_above_gnd  relative_humidity_2_m_above_gnd  \\\n",
       "0                          2.17                               31   \n",
       "1                          2.31                               27   \n",
       "2                          3.65                               33   \n",
       "3                          5.82                               30   \n",
       "4                          7.73                               27   \n",
       "...                         ...                              ...   \n",
       "4208                       8.69                               66   \n",
       "4209                       7.57                               90   \n",
       "4210                       7.27                               90   \n",
       "4211                       8.25                               81   \n",
       "4212                       8.00                               80   \n",
       "\n",
       "      mean_sea_level_pressure_MSL  shortwave_radiation_backwards_sfc  \\\n",
       "0                          1035.0                               0.00   \n",
       "1                          1035.1                               1.78   \n",
       "2                          1035.4                             108.58   \n",
       "3                          1035.4                             258.10   \n",
       "4                          1034.4                             375.58   \n",
       "...                           ...                                ...   \n",
       "4208                       1025.1                             257.21   \n",
       "4209                       1026.1                             210.04   \n",
       "4210                       1026.3                             113.92   \n",
       "4211                       1025.5                             186.90   \n",
       "4212                       1025.3                             172.66   \n",
       "\n",
       "      wind_direction_10_m_above_gnd  wind_direction_80_m_above_gnd  \\\n",
       "0                            312.71                          22.62   \n",
       "1                            294.78                          32.74   \n",
       "2                            270.00                          56.31   \n",
       "3                            323.13                          23.96   \n",
       "4                             10.01                          25.20   \n",
       "...                             ...                            ...   \n",
       "4208                         285.42                         283.06   \n",
       "4209                           6.91                           4.76   \n",
       "4210                           2.29                         352.87   \n",
       "4211                          11.31                          13.24   \n",
       "4212                          12.72                          17.35   \n",
       "\n",
       "      wind_direction_900_mb  wind_gust_10_m_above_gnd  angle_of_incidence  \\\n",
       "0                    337.62                     24.48           58.753108   \n",
       "1                    321.34                     21.96           45.408585   \n",
       "2                    286.70                     14.04           32.848282   \n",
       "3                    339.44                     19.80           22.699288   \n",
       "4                     22.38                     16.56           19.199908   \n",
       "...                     ...                       ...                 ...   \n",
       "4208                 282.99                     25.20           22.700907   \n",
       "4209                   7.13                     10.44           19.307487   \n",
       "4210                 354.81                     22.32           25.249506   \n",
       "4211                  14.04                     15.48           36.361161   \n",
       "4212                  18.43                     16.20           48.452849   \n",
       "\n",
       "         zenith    azimuth  merged_wind_speed  \n",
       "0     83.237322  128.33543           7.450000  \n",
       "1     75.143041  139.65530           5.250000  \n",
       "2     68.820648  152.53769           4.110000  \n",
       "3     64.883536  166.90159           3.410000  \n",
       "4     63.795208  182.13526           6.530000  \n",
       "...         ...        ...                ...  \n",
       "4208  64.952098  167.06794          23.723333  \n",
       "4209  63.895118  182.28247          12.193333  \n",
       "4210  65.827032  197.33868           8.556667  \n",
       "4211  70.496313  211.30027           6.523333  \n",
       "4212  76.919574  223.04931          11.630000  \n",
       "\n",
       "[4213 rows x 12 columns]"
      ]
     },
     "execution_count": 419,
     "metadata": {},
     "output_type": "execute_result"
    }
   ],
   "source": [
    "X"
   ]
  },
  {
   "cell_type": "code",
   "execution_count": 420,
   "id": "dbc308ac-4357-443e-b983-9635ddf4f343",
   "metadata": {},
   "outputs": [
    {
     "data": {
      "text/plain": [
       "Index(['temperature_2_m_above_gnd', 'relative_humidity_2_m_above_gnd',\n",
       "       'mean_sea_level_pressure_MSL', 'shortwave_radiation_backwards_sfc',\n",
       "       'wind_direction_10_m_above_gnd', 'wind_direction_80_m_above_gnd',\n",
       "       'wind_direction_900_mb', 'wind_gust_10_m_above_gnd',\n",
       "       'angle_of_incidence', 'zenith', 'azimuth', 'merged_wind_speed'],\n",
       "      dtype='object')"
      ]
     },
     "execution_count": 420,
     "metadata": {},
     "output_type": "execute_result"
    }
   ],
   "source": [
    "X.columns"
   ]
  },
  {
   "cell_type": "code",
   "execution_count": 421,
   "id": "44545dcb-2801-4601-b8aa-8e1ae28f6193",
   "metadata": {},
   "outputs": [
    {
     "data": {
      "text/plain": [
       "<Axes: ylabel='merged_wind_speed'>"
      ]
     },
     "execution_count": 421,
     "metadata": {},
     "output_type": "execute_result"
    },
    {
     "data": {
      "image/png": "[encoded data removed]",
      "text/plain": [
       "<Figure size 640x480 with 1 Axes>"
      ]
     },
     "metadata": {},
     "output_type": "display_data"
    }
   ],
   "source": [
    "\n",
    "sns.boxplot(X['merged_wind_speed'])"
   ]
  },
  {
   "cell_type": "code",
   "execution_count": null,
   "id": "5991073b-824b-456f-a713-d06a7dba9eca",
   "metadata": {
    "scrolled": true
   },
   "outputs": [],
   "source": []
  },
  {
   "cell_type": "code",
   "execution_count": null,
   "id": "e6fb0989-7c5e-4d1f-8c95-d423db034caa",
   "metadata": {},
   "outputs": [],
   "source": []
  },
  {
   "cell_type": "code",
   "execution_count": 422,
   "id": "eaeb82b8-76d4-47d1-9064-7e37336abd18",
   "metadata": {},
   "outputs": [
    {
     "data": {
      "text/plain": [
       "<Axes: ylabel='merged_wind_speed'>"
      ]
     },
     "execution_count": 422,
     "metadata": {},
     "output_type": "execute_result"
    },
    {
     "data": {
      "image/png": "[encoded data removed]",
      "text/plain": [
       "<Figure size 640x480 with 1 Axes>"
      ]
     },
     "metadata": {},
     "output_type": "display_data"
    }
   ],
   "source": [
    "sns.boxplot(X1['merged_wind_speed'])"
   ]
  },
  {
   "cell_type": "code",
   "execution_count": 423,
   "id": "e179a692-aa2a-44f7-8037-dca493987f62",
   "metadata": {},
   "outputs": [
    {
     "name": "stdout",
     "output_type": "stream",
     "text": [
      "(10, 19)\n",
      "(4203, 19)\n"
     ]
    },
    {
     "data": {
      "text/plain": [
       "(4203, 19)"
      ]
     },
     "execution_count": 423,
     "metadata": {},
     "output_type": "execute_result"
    }
   ],
   "source": [
    "Q1 = df['zenith'].quantile(0.25)\n",
    "Q3 = df['zenith'].quantile(0.75)\n",
    "IQR = Q3 - Q1\n",
    "lb = Q1 - (1.5 * IQR)\n",
    "ub = Q3 + (1.5 * IQR)\n",
    "\n",
    "outzen=df[(df['zenith']<lb)|(df['zenith']>ub)]\n",
    "print(outzen.shape)\n",
    "zenithafter=df[(df['zenith']>lb)&(df['zenith']<ub)]\n",
    "print(zenithafter.shape)\n",
    "df=zenithafter\n",
    "df.shape"
   ]
  },
  {
   "cell_type": "code",
   "execution_count": 424,
   "id": "05fce004-4e9b-425e-8611-cb09ff88f703",
   "metadata": {},
   "outputs": [
    {
     "data": {
      "text/plain": [
       "<Axes: ylabel='zenith'>"
      ]
     },
     "execution_count": 424,
     "metadata": {},
     "output_type": "execute_result"
    },
    {
     "data": {
      "image/png": "[encoded data removed]",
      "text/plain": [
       "<Figure size 640x480 with 1 Axes>"
      ]
     },
     "metadata": {},
     "output_type": "display_data"
    }
   ],
   "source": [
    "\n",
    "sns.boxplot(df['zenith'])"
   ]
  },
  {
   "cell_type": "code",
   "execution_count": 425,
   "id": "65b06886-4387-4819-a1ca-4417c2fea4b0",
   "metadata": {},
   "outputs": [
    {
     "data": {
      "text/plain": [
       "(4158, 19)"
      ]
     },
     "execution_count": 425,
     "metadata": {},
     "output_type": "execute_result"
    }
   ],
   "source": [
    "\n",
    "\n",
    "Q1 = df['mean_sea_level_pressure_MSL'].quantile(0.25)\n",
    "Q3 = df['mean_sea_level_pressure_MSL'].quantile(0.75)\n",
    "IQR = Q3 - Q1\n",
    "lb = Q1 - (1.5 * IQR)\n",
    "ub = Q3 + (1.5 * IQR)\n",
    "\n",
    "outmslp=df[(df['mean_sea_level_pressure_MSL']<lb)|(df['mean_sea_level_pressure_MSL']>ub)]\n",
    "outmslp.shape\n",
    "mslpafter=df[(df['mean_sea_level_pressure_MSL']>lb)&(df['mean_sea_level_pressure_MSL']<ub)]\n",
    "mslpafter.shape\n",
    "df=mslpafter\n",
    "\n",
    "df.shape"
   ]
  },
  {
   "cell_type": "code",
   "execution_count": 426,
   "id": "845f6b33-57f4-44b9-bff3-053796f2a221",
   "metadata": {},
   "outputs": [
    {
     "data": {
      "text/plain": [
       "<Axes: ylabel='mean_sea_level_pressure_MSL'>"
      ]
     },
     "execution_count": 426,
     "metadata": {},
     "output_type": "execute_result"
    },
    {
     "data": {
      "image/png": "[encoded data removed]",
      "text/plain": [
       "<Figure size 640x480 with 1 Axes>"
      ]
     },
     "metadata": {},
     "output_type": "display_data"
    }
   ],
   "source": [
    "\n",
    "sns.boxplot(df['mean_sea_level_pressure_MSL'])"
   ]
  },
  {
   "cell_type": "code",
   "execution_count": 427,
   "id": "f3f7985f-ff80-4891-9dda-52c4999d40c0",
   "metadata": {},
   "outputs": [
    {
     "data": {
      "text/plain": [
       "(4075, 19)"
      ]
     },
     "execution_count": 427,
     "metadata": {},
     "output_type": "execute_result"
    }
   ],
   "source": [
    "Q1 = df['merged_wind_speed'].quantile(0.25)\n",
    "Q3 = df['merged_wind_speed'].quantile(0.75)\n",
    "IQR = Q3 - Q1\n",
    "lb = Q1 - (1.5 * IQR)\n",
    "ub = Q3 + (1.5 * IQR)\n",
    "outmws=df[(df['merged_wind_speed']<lb)|(df['merged_wind_speed']>ub)]\n",
    "mwsafter=df[(df['merged_wind_speed']>lb)&(df['merged_wind_speed']<ub)]\n",
    "outmws.shape\n",
    "mwsafter.shape\n",
    "df=mwsafter\n",
    "df.shape"
   ]
  },
  {
   "cell_type": "code",
   "execution_count": 428,
   "id": "6701b64c-3294-4107-b3c2-3e6758628e44",
   "metadata": {},
   "outputs": [
    {
     "data": {
      "text/plain": [
       "<Axes: ylabel='merged_wind_speed'>"
      ]
     },
     "execution_count": 428,
     "metadata": {},
     "output_type": "execute_result"
    },
    {
     "data": {
      "image/png": "[encoded data removed]",
      "text/plain": [
       "<Figure size 640x480 with 1 Axes>"
      ]
     },
     "metadata": {},
     "output_type": "display_data"
    }
   ],
   "source": [
    "\n",
    "sns.boxplot(df['merged_wind_speed'])"
   ]
  },
  {
   "cell_type": "code",
   "execution_count": 429,
   "id": "11e2024b-747d-4a92-81e6-a25fe0424849",
   "metadata": {},
   "outputs": [
    {
     "data": {
      "text/plain": [
       "(4005, 19)"
      ]
     },
     "execution_count": 429,
     "metadata": {},
     "output_type": "execute_result"
    }
   ],
   "source": [
    "\n",
    "\n",
    "\n",
    "\n",
    "Q1 = df['wind_gust_10_m_above_gnd'].quantile(0.25)\n",
    "Q3 = df['wind_gust_10_m_above_gnd'].quantile(0.75)\n",
    "IQR = Q3 - Q1\n",
    "lb = Q1 - (1.5 * IQR)\n",
    "ub = Q3 + (1.5 * IQR)\n",
    "\n",
    "outwg=df[(df['wind_gust_10_m_above_gnd']<lb)|(df['wind_gust_10_m_above_gnd']>ub)]\n",
    "\n",
    "wgafter=df[(df['wind_gust_10_m_above_gnd']>lb)&(df['wind_gust_10_m_above_gnd']<ub)]\n",
    "outwg.shape\n",
    "wgafter.shape\n",
    "\n",
    "df=wgafter\n",
    "\n",
    "df.shape"
   ]
  },
  {
   "cell_type": "code",
   "execution_count": 430,
   "id": "1b96dc20-1624-4c7f-a736-c73b31e8711c",
   "metadata": {},
   "outputs": [
    {
     "data": {
      "text/plain": [
       "<Axes: ylabel='wind_gust_10_m_above_gnd'>"
      ]
     },
     "execution_count": 430,
     "metadata": {},
     "output_type": "execute_result"
    },
    {
     "data": {
      "image/png": "[encoded data removed]",
      "text/plain": [
       "<Figure size 640x480 with 1 Axes>"
      ]
     },
     "metadata": {},
     "output_type": "display_data"
    }
   ],
   "source": [
    "\n",
    "sns.boxplot(df['wind_gust_10_m_above_gnd'])"
   ]
  },
  {
   "cell_type": "code",
   "execution_count": 445,
   "id": "059be7cb-5063-4047-b78f-387ef977f22e",
   "metadata": {},
   "outputs": [
    {
     "data": {
      "text/plain": [
       "(4005, 12)"
      ]
     },
     "execution_count": 445,
     "metadata": {},
     "output_type": "execute_result"
    }
   ],
   "source": [
    "wind_speed_columns = ['wind_speed_10_m_above_gnd', 'wind_speed_80_m_above_gnd', 'wind_speed_900_mb']\n",
    "df['merged_wind_speed'] = df[wind_speed_columns].mean(axis=1)\n",
    "df = df.drop(columns=wind_speed_columns)\n",
    "\n",
    "X = df.drop(['low_cloud_cover_low_cld_lay', 'medium_cloud_cover_mid_cld_lay','high_cloud_cover_high_cld_lay', 'total_cloud_cover_sfc', 'snowfall_amount_sfc', 'total_precipitation_sfc', 'generated_power_kw'], axis=1)\n",
    "\n",
    "\n",
    "X.shape\n",
    "\n"
   ]
  },
  {
   "cell_type": "code",
   "execution_count": 447,
   "id": "d4759437-dc35-4649-abaa-b023abc66a91",
   "metadata": {},
   "outputs": [
    {
     "data": {
      "image/png": "[encoded data removed]",
      "text/plain": [
       "<Figure size 1000x600 with 1 Axes>"
      ]
     },
     "metadata": {},
     "output_type": "display_data"
    }
   ],
   "source": [
    "import matplotlib.pyplot as plt\n",
    "from sklearn.ensemble import RandomForestRegressor\n",
    "scaler = StandardScaler()\n",
    "X_scaled = scaler.fit_transform(X)\n",
    "rf = RandomForestRegressor(n_estimators=100, random_state=42)\n",
    "rf.fit(X_scaled, y)\n",
    "\n",
    "feature_p = pd.DataFrame({'feature': X.columns, 'importance': rf.feature_importances_})\n",
    "feature_p= feature_p.sort_values('importance', ascending=False)\n",
    "\n",
    "plt.figure(figsize=(10, 6))\n",
    "sns.barplot(x='importance', y='feature', data=feature_p)\n",
    "plt.title('Feature Dependency')\n",
    "plt.show()"
   ]
  },
  {
   "cell_type": "code",
   "execution_count": 499,
   "id": "c6f2e592-794e-4d76-b105-6fe3f9f61eeb",
   "metadata": {},
   "outputs": [
    {
     "data": {
      "text/plain": [
       "Index(['temperature_2_m_above_gnd', 'relative_humidity_2_m_above_gnd',\n",
       "       'mean_sea_level_pressure_MSL', 'shortwave_radiation_backwards_sfc',\n",
       "       'wind_direction_10_m_above_gnd', 'wind_direction_80_m_above_gnd',\n",
       "       'wind_direction_900_mb', 'wind_gust_10_m_above_gnd',\n",
       "       'angle_of_incidence', 'zenith', 'azimuth', 'merged_wind_speed'],\n",
       "      dtype='object')"
      ]
     },
     "execution_count": 499,
     "metadata": {},
     "output_type": "execute_result"
    }
   ],
   "source": [
    "X.columns"
   ]
  },
  {
   "cell_type": "code",
   "execution_count": 535,
   "id": "982ac872-25bf-407e-a30f-284c94ca6d27",
   "metadata": {},
   "outputs": [],
   "source": [
    "X1=X[['relative_humidity_2_m_above_gnd','mean_sea_level_pressure_MSL','shortwave_radiation_backwards_sfc','wind_gust_10_m_above_gnd','angle_of_incidence', 'zenith', 'azimuth', 'merged_wind_speed']]\n",
    "y=df['generated_power_kw']"
   ]
  },
  {
   "cell_type": "code",
   "execution_count": 536,
   "id": "1994d5b3-7053-47f3-9dfb-11dfea91685a",
   "metadata": {},
   "outputs": [
    {
     "name": "stdout",
     "output_type": "stream",
     "text": [
      "R2 Score: 0.703032083028656\n"
     ]
    }
   ],
   "source": [
    "from sklearn.model_selection import train_test_split\n",
    "X_train, X_test, y_train, y_test = train_test_split(X1, y, test_size=0.2, random_state=42)\n",
    "\n",
    "from sklearn.preprocessing import StandardScaler\n",
    "scaler = StandardScaler()\n",
    "X_train = scaler.fit_transform(X_train)\n",
    "X_test = scaler.transform(X_test)\n",
    "\n",
    "from sklearn.linear_model import LinearRegression\n",
    "lr = LinearRegression()\n",
    "lr.fit(X_train, y_train)\n",
    "y_pred = lr.predict(X_test)\n",
    "\n",
    "from sklearn.metrics import r2_score\n",
    "r2lr = r2_score(y_test, y_pred)\n",
    "print(\"R2 Score:\", r2lr)"
   ]
  },
  {
   "cell_type": "code",
   "execution_count": 537,
   "id": "22defe04-b370-406d-9fa6-086a5b08bc77",
   "metadata": {},
   "outputs": [
    {
     "name": "stdout",
     "output_type": "stream",
     "text": [
      "DtR2 0.5267139683234622\n"
     ]
    }
   ],
   "source": [
    "\n",
    "from sklearn.tree import DecisionTreeRegressor\n",
    "\n",
    "dt = DecisionTreeRegressor(random_state=42)\n",
    "dt.fit(X_train, y_train)\n",
    "\n",
    "ypreddt = dt.predict(X_test)\n",
    "r2dt = r2_score(y_test, ypreddt)\n",
    "print(\"DtR2\", r2dt)"
   ]
  },
  {
   "cell_type": "code",
   "execution_count": 538,
   "id": "b53c1d5a-6911-4987-9f9d-e79d4b11974f",
   "metadata": {},
   "outputs": [
    {
     "name": "stdout",
     "output_type": "stream",
     "text": [
      "RFR2: 0.7634432646668867\n"
     ]
    }
   ],
   "source": [
    "\n",
    "from sklearn.ensemble import RandomForestRegressor\n",
    "\n",
    "rf = RandomForestRegressor(n_estimators=100, random_state=42)\n",
    "rf.fit(X_train, y_train)\n",
    "\n",
    "ypredrf = rf.predict(X_test)\n",
    "\n",
    "r2rf = r2_score(y_test, ypredrf)\n",
    "print(\"RFR2:\",r2rf)"
   ]
  },
  {
   "cell_type": "code",
   "execution_count": 539,
   "id": "044067ab-de5e-4341-8bb5-86e672314357",
   "metadata": {},
   "outputs": [
    {
     "name": "stdout",
     "output_type": "stream",
     "text": [
      "gbR2: 0.7482195224486643\n"
     ]
    }
   ],
   "source": [
    "from sklearn.ensemble import GradientBoostingRegressor\n",
    "\n",
    "gb = GradientBoostingRegressor(n_estimators=100, learning_rate=0.1, max_depth=3, random_state=42)\n",
    "gb.fit(X_train, y_train)\n",
    "\n",
    "ypredgb = gb.predict(X_test)\n",
    "\n",
    "r2_gb = r2_score(y_test, ypredgb)\n",
    "\n",
    "print(\"gbR2:\", r2_gb)"
   ]
  }
 ],
 "metadata": {
  "kernelspec": {
   "display_name": "Python 3 (ipykernel)",
   "language": "python",
   "name": "python3"
  },
  "language_info": {
   "codemirror_mode": {
    "name": "ipython",
    "version": 3
   },
   "file_extension": ".py",
   "mimetype": "text/x-python",
   "name": "python",
   "nbconvert_exporter": "python",
   "pygments_lexer": "ipython3",
   "version": "3.12.4"
  }
 },
 "nbformat": 4,
 "nbformat_minor": 5
}
